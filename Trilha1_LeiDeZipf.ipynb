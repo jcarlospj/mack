{
  "nbformat": 4,
  "nbformat_minor": 0,
  "metadata": {
    "colab": {
      "name": "Trilha1_LeiDeZipf.ipynb",
      "provenance": [],
      "collapsed_sections": [],
      "mount_file_id": "11kaSj9vLJQxEcP9O05e2SXXl4_3HObCx",
      "authorship_tag": "ABX9TyNyLXYIDrErADe9ECYKMhHV",
      "include_colab_link": true
    },
    "kernelspec": {
      "name": "python3",
      "display_name": "Python 3"
    },
    "language_info": {
      "name": "python"
    }
  },
  "cells": [
    {
      "cell_type": "markdown",
      "metadata": {
        "id": "view-in-github",
        "colab_type": "text"
      },
      "source": [
        "<a href=\"https://colab.research.google.com/github/jcarlospj/mack/blob/main/Trilha1_LeiDeZipf.ipynb\" target=\"_parent\"><img src=\"https://colab.research.google.com/assets/colab-badge.svg\" alt=\"Open In Colab\"/></a>"
      ]
    },
    {
      "cell_type": "markdown",
      "metadata": {
        "id": "SlUTfujvouT_"
      },
      "source": [
        "<head>\n",
        "  <meta name=\"author\" content=\"Rogério de Oliveira\">\n",
        "  <meta institution=\"author\" content=\"Universidade Presbiteriana Mackenzie\">\n",
        "</head>\n",
        "\n",
        "<img src=\"http://meusite.mackenzie.br/rogerio/mackenzie_logo/UPM.2_horizontal_vermelho.jpg\" width=300, align=\"right\">\n",
        "<!-- <h1 align=left><font size = 6, style=\"color:rgb(200,0,0)\"> optional title </font></h1> -->\n"
      ]
    },
    {
      "cell_type": "markdown",
      "metadata": {
        "id": "IMu9kh4HcKB7"
      },
      "source": [
        "# Trilha 1 - Lei de Zipf\n",
        "---\n",
        "\n",
        "\n",
        "\n"
      ]
    },
    {
      "cell_type": "markdown",
      "metadata": {
        "id": "I54fRjNzzTFS"
      },
      "source": [
        "# **What Is a Lakehouse?** \n",
        "\n",
        "Fonte: https://databricks.com/blog/2020/01/30/what-is-a-data-lakehouse.html\n",
        "de 30 de janeiro de 2020\n",
        "\n",
        "\n",
        "\n",
        "---\n",
        "\n",
        "\n",
        "Em minhas pesquisas sobre a Ciência de Dados, encontrei este artigo que achei muito interessante.\n",
        "\n",
        "O texto aborda a arquitetura de gerenciamento de dados Lakehouse e suas vantagens com relação as arquiteturas anteriores: Data Warehouse e Data Lake, demonstrando a evolução dos processos e seus repositórios de informações ao longo da história.\n"
      ]
    },
    {
      "cell_type": "markdown",
      "metadata": {
        "id": "nIfbye73nzZp"
      },
      "source": [
        "## Aquisição dos Dados"
      ]
    },
    {
      "cell_type": "code",
      "metadata": {
        "id": "orFhEPyagqWY",
        "colab": {
          "base_uri": "https://localhost:8080/"
        },
        "outputId": "0c6e3726-e45d-43ea-d1dd-6dcd0e9c3610"
      },
      "source": [
        "import requests\n",
        "from bs4 import BeautifulSoup\n",
        "\n",
        "texto = []\n",
        "linhas = []\n",
        "\n",
        "URL = \"https://databricks.com/blog/2020/01/30/what-is-a-data-lakehouse.html\"\n",
        "page = requests.get(URL)\n",
        "soup = BeautifulSoup(page.content, \"html.parser\")\n",
        "\n",
        "#print(soup.prettify())\n",
        "\n",
        "## Filtro, atribui somente a class blog-post:\n",
        "linhas = soup.find_all(class_='blog-post--section blog-post--article text-longform')\n",
        "\n",
        "## Lê as linhas e carrega o texto:\n",
        "for i in linhas:\n",
        "  texto.append(i.text)\n",
        "\n",
        "for i in range(len(texto)):\n",
        "    texto[i] = texto[i].lower() # para unicidade\n",
        "    texto[i] = texto[i].replace('\\n','')\n",
        "    texto[i] = texto[i].replace('.','')\n",
        "    texto[i] = texto[i].replace(',','')\n",
        "    texto[i] = texto[i].replace('(','')\n",
        "    texto[i] = texto[i].replace(')','')\n",
        "    texto[i] = texto[i].replace('?','')\n",
        "    texto[i] = texto[i].replace('\\'','') # elimina ' e \"\n",
        "\n",
        "print(texto)\n"
      ],
      "execution_count": null,
      "outputs": [
        {
          "output_type": "stream",
          "name": "stdout",
          "text": [
            "['over the past few years at databricks we’ve seen a new data management architecture that emerged independently across many customers and use cases: the lakehouse in this post we describe this new architecture and its advantages over previous approachesdata warehouses have a long history in decision support and business intelligence applications since its inception in the late 1980s data warehouse technology continued to evolve and mpp architectures led to systems that were able to handle larger data sizes but while warehouses were great for structured data a lot of modern enterprises have to deal with unstructured data semi-structured data and data with high variety velocity and volume data warehouses are not suited for many of these use cases and they are certainly not the most cost efficientas companies began to collect large amounts of data from many different sources architects began envisioning a single system to house data for many different analytic products and workloads about a decade ago companies began building data lakes – repositories for raw data in a variety of formats while suitable for storing data data lakes lack some critical features: they do not support transactions they do not enforce data quality and their lack of consistency / isolation makes it almost impossible to mix appends and reads and batch and streaming jobs for these reasons many of the promises of the data lakes have not materialized and in many cases leading to a loss of many of the benefits of data warehousesthe need for a flexible high-performance system hasn’t abated companies require systems for diverse data applications including sql analytics real-time monitoring data science and machine learning most of the recent advances in ai have been in better models to process unstructured data text images video audio but these are precisely the types of data that a data warehouse is not optimized for a common approach is to use multiple systems – a data lake several data warehouses and other specialized systems such as streaming time-series graph and image databases having a multitude of systems introduces complexity and more importantly introduces delay as data professionals invariably need to move or copy data between different systemswhat is a lakehousenew systems are beginning to emerge that address the limitations of data lakes a lakehouse is a new open architecture that combines the best elements of data lakes and data warehouses lakehouses are enabled by a new open and standardized system design: implementing similar data structures and data management features to those in a data warehouse directly on the kind of low cost storage used for data lakes they are what you would get if you had to redesign data warehouses in the modern world now that cheap and highly reliable storage in the form of object stores are availablea lakehouse has the following key features:transaction support: in an enterprise lakehouse many data pipelines will often be reading and writing data concurrently support for acid transactions ensures consistency as multiple parties concurrently read or write data typically using sqlschema enforcement and governance: the lakehouse should have a way to support schema enforcement and evolution supporting dw schema architectures such as star/snowflake-schemas the system should be able to reason about data integrity and it should have robust governance and auditing mechanismsbi support: lakehouses enable using bi tools directly on the source data this reduces staleness and improves recency reduces latency and lowers the cost of having to operationalize two copies of the data in both a data lake and a warehousestorage is decoupled from compute: in practice this means storage and compute use separate clusters thus these systems are able to scale to many more concurrent users and larger data sizes some modern data warehouses also have this propertyopenness: the storage formats they use are open and standardized such as parquet and they provide an api so a variety of tools and engines including machine learning and python/r libraries can efficiently access the data directlysupport for diverse data types ranging from unstructured to structured data: the lakehouse can be used to store refine analyze and access data types needed for many new data applications including images video audio semi-structured data and textsupport for diverse workloads: including data science machine learning and sql and analytics multiple tools might be needed to support all these workloads but they all rely on the same data repositoryend-to-end streaming: real-time reports are the norm in many enterprises support for streaming eliminates the need for separate systems dedicated to serving real-time data applicationsthese are the key attributes of lakehouses enterprise grade systems require additional features tools for security and access control are basic requirements data governance capabilities including auditing retention and lineage have become essential particularly in light of recent privacy regulations tools that enable data discovery such as data catalogs and data usage metrics are also needed with a lakehouse such enterprise features only need to be implemented tested and administered for a single systemread the full research paper on the inner workings of the lakehousesome early examplesthe databricks lakehouse platform has the architectural features of a lakehouse microsoft’s\\xa0azure synapse analytics\\xa0service which\\xa0integrates with azure databricks enables a similar lakehouse pattern\\xa0other managed services such as bigquery and redshift spectrum have some of the lakehouse features listed above but they are examples that focus primarily on bi and other sql applications companies who want to build and implement their own systems have access to open source file formats delta lake apache iceberg apache hudi that are suitable for building a lakehousemerging data lakes and data warehouses into a single system means that data teams can move faster as they are able use data without needing to access multiple systems the level of sql support and integration with bi tools among these early lakehouses are generally sufficient for most enterprise data warehouses materialized views and stored procedures are available but users may need to employ other mechanisms that aren’t equivalent to those found in traditional data warehouses the latter is particularly important for “lift and shift scenarios” which require systems that achieve semantics that are almost identical to those of older commercial data warehouseswhat about support for other types of data applications users of a lakehouse have access to a variety of standard tools spark python r machine learning libraries for non bi workloads like data science and machine learning data exploration and refinement are standard for many analytic and data science applications delta lake is designed to let users incrementally improve the quality of data in their lakehouse until it is ready for consumptiona note about technical building blocks while distributed file systems can be used for the storage layer objects stores are more commonly used in lakehouses object stores provide low cost highly available storage that excel at massively parallel reads – an essential requirement for modern data warehousesfrom bi to aithe lakehouse is a new data management architecture that radically simplifies enterprise data infrastructure and accelerates innovation in an age when machine learning is poised to disrupt every industry in the past most of the data that went into a company’s products or decision making was structured data from operational systems whereas today many products incorporate ai in the form of computer vision and speech models text mining and others why use a lakehouse instead of a data lake for ai a lakehouse gives you data versioning governance security and acid properties that are needed even for unstructured datacurrent lakehouses reduce cost but their performance can still lag specialized systems such as data warehouses that have years of investments and real-world deployments behind them users may favor certain tools bi tools ides notebooks over others so lakehouses will also need to improve their ux and their connectors to popular tools so they can appeal to a variety of personas these and other issues will be addressed as the technology continues to mature and develop over time lakehouses will close these gaps while retaining the core properties of being simpler more cost efficient and more capable of serving diverse data applicationsread the faq on data lakehouse for more details']\n"
          ]
        }
      ]
    },
    {
      "cell_type": "markdown",
      "metadata": {
        "id": "Vw285ytjpNJ0"
      },
      "source": [
        "# Construção do Dicionário"
      ]
    },
    {
      "cell_type": "code",
      "metadata": {
        "id": "a5XxpMJe60li",
        "colab": {
          "base_uri": "https://localhost:8080/"
        },
        "outputId": "2ad53e5b-4b92-42e8-c65a-410caa322507"
      },
      "source": [
        "mydict = {}                             # crie um dicionário vazio\n",
        "\n",
        "for line in texto:\n",
        "\n",
        "  line = line.lower()                   # converte para lower\n",
        "  words = line.split()                  # separa cada palavra\n",
        "  count = 0                             # quantidade de palavras\n",
        "\n",
        "\n",
        "  for word in words:                      # para cada palavra em words\n",
        "    count = count + 1\n",
        "    if word not in mydict.keys():         # se palavra não está no dicionário \n",
        "      mydict[word] = 1                    # acrescenta a word com o valor 1\n",
        "    else:                                 # se a entrada já existe \n",
        "      mydict[word] =  mydict[word] + 1    # apenas soma 1 ao valor já existente\n",
        "\n",
        "print(mydict)\n",
        "print('Texto com: ' + str(count), 'palavras.')"
      ],
      "execution_count": null,
      "outputs": [
        {
          "output_type": "stream",
          "name": "stdout",
          "text": [
            "{'over': 4, 'the': 42, 'past': 2, 'few': 1, 'years': 2, 'at': 2, 'databricks': 3, 'we’ve': 1, 'seen': 1, 'a': 35, 'new': 6, 'data': 77, 'management': 3, 'architecture': 4, 'that': 18, 'emerged': 1, 'independently': 1, 'across': 1, 'many': 13, 'customers': 1, 'and': 62, 'use': 7, 'cases:': 1, 'lakehouse': 17, 'in': 21, 'this': 5, 'post': 1, 'we': 1, 'describe': 1, 'its': 2, 'advantages': 1, 'previous': 1, 'approachesdata': 1, 'warehouses': 11, 'have': 12, 'long': 1, 'history': 1, 'decision': 2, 'support': 8, 'business': 1, 'intelligence': 1, 'applications': 6, 'since': 1, 'inception': 1, 'late': 1, '1980s': 1, 'warehouse': 3, 'technology': 2, 'continued': 1, 'to': 38, 'evolve': 1, 'mpp': 1, 'architectures': 2, 'led': 1, 'systems': 15, 'were': 2, 'able': 4, 'handle': 1, 'larger': 2, 'sizes': 2, 'but': 6, 'while': 4, 'great': 1, 'for': 30, 'structured': 3, 'lot': 1, 'of': 38, 'modern': 4, 'enterprises': 2, 'deal': 1, 'with': 5, 'unstructured': 4, 'semi-structured': 2, 'high': 1, 'variety': 5, 'velocity': 1, 'volume': 1, 'are': 22, 'not': 6, 'suited': 1, 'these': 8, 'cases': 2, 'they': 10, 'certainly': 1, 'most': 4, 'cost': 6, 'efficientas': 1, 'companies': 4, 'began': 3, 'collect': 1, 'large': 1, 'amounts': 1, 'from': 4, 'different': 3, 'sources': 1, 'architects': 1, 'envisioning': 1, 'single': 3, 'system': 5, 'house': 1, 'analytic': 2, 'products': 3, 'workloads': 3, 'about': 4, 'decade': 1, 'ago': 1, 'building': 3, 'lakes': 7, '–': 3, 'repositories': 1, 'raw': 1, 'formats': 3, 'suitable': 2, 'storing': 1, 'lack': 2, 'some': 3, 'critical': 1, 'features:': 1, 'do': 2, 'transactions': 2, 'enforce': 1, 'quality': 2, 'their': 6, 'consistency': 2, '/': 1, 'isolation': 1, 'makes': 1, 'it': 3, 'almost': 2, 'impossible': 1, 'mix': 1, 'appends': 1, 'reads': 2, 'batch': 1, 'streaming': 3, 'jobs': 1, 'reasons': 1, 'promises': 1, 'materialized': 2, 'leading': 1, 'loss': 1, 'benefits': 1, 'warehousesthe': 1, 'need': 6, 'flexible': 1, 'high-performance': 1, 'hasn’t': 1, 'abated': 1, 'require': 3, 'diverse': 4, 'including': 5, 'sql': 4, 'analytics': 3, 'real-time': 3, 'monitoring': 1, 'science': 4, 'machine': 6, 'learning': 6, 'recent': 2, 'advances': 1, 'ai': 3, 'been': 1, 'better': 1, 'models': 2, 'process': 1, 'text': 2, 'images': 2, 'video': 2, 'audio': 2, 'precisely': 1, 'types': 4, 'is': 10, 'optimized': 1, 'common': 1, 'approach': 1, 'multiple': 4, 'lake': 5, 'several': 1, 'other': 6, 'specialized': 2, 'such': 7, 'as': 10, 'time-series': 1, 'graph': 1, 'image': 1, 'databases': 1, 'having': 2, 'multitude': 1, 'introduces': 2, 'complexity': 1, 'more': 6, 'importantly': 1, 'delay': 1, 'professionals': 1, 'invariably': 1, 'move': 2, 'or': 3, 'copy': 1, 'between': 1, 'systemswhat': 1, 'lakehousenew': 1, 'beginning': 1, 'emerge': 1, 'address': 1, 'limitations': 1, 'open': 4, 'combines': 1, 'best': 1, 'elements': 1, 'lakehouses': 8, 'enabled': 1, 'by': 1, 'standardized': 2, 'design:': 1, 'implementing': 1, 'similar': 2, 'structures': 1, 'features': 5, 'those': 3, 'directly': 2, 'on': 6, 'kind': 1, 'low': 2, 'storage': 6, 'used': 4, 'what': 1, 'you': 3, 'would': 1, 'get': 1, 'if': 1, 'had': 1, 'redesign': 1, 'world': 1, 'now': 1, 'cheap': 1, 'highly': 2, 'reliable': 1, 'form': 2, 'object': 2, 'stores': 3, 'availablea': 1, 'has': 2, 'following': 1, 'key': 2, 'features:transaction': 1, 'support:': 2, 'an': 4, 'enterprise': 5, 'pipelines': 1, 'will': 4, 'often': 1, 'be': 7, 'reading': 1, 'writing': 1, 'concurrently': 2, 'acid': 2, 'ensures': 1, 'parties': 1, 'read': 1, 'write': 1, 'typically': 1, 'using': 2, 'sqlschema': 1, 'enforcement': 2, 'governance:': 1, 'should': 3, 'way': 1, 'schema': 2, 'evolution': 1, 'supporting': 1, 'dw': 1, 'star/snowflake-schemas': 1, 'reason': 1, 'integrity': 1, 'robust': 1, 'governance': 3, 'auditing': 2, 'mechanismsbi': 1, 'enable': 2, 'bi': 6, 'tools': 10, 'source': 2, 'reduces': 2, 'staleness': 1, 'improves': 1, 'recency': 1, 'latency': 1, 'lowers': 1, 'operationalize': 1, 'two': 1, 'copies': 1, 'both': 1, 'warehousestorage': 1, 'decoupled': 1, 'compute:': 1, 'practice': 1, 'means': 2, 'compute': 1, 'separate': 2, 'clusters': 1, 'thus': 1, 'scale': 1, 'concurrent': 1, 'users': 5, 'also': 3, 'propertyopenness:': 1, 'parquet': 1, 'provide': 2, 'api': 1, 'so': 3, 'engines': 1, 'python/r': 1, 'libraries': 2, 'can': 6, 'efficiently': 1, 'access': 6, 'directlysupport': 1, 'ranging': 1, 'data:': 1, 'store': 1, 'refine': 1, 'analyze': 1, 'needed': 4, 'textsupport': 1, 'workloads:': 1, 'might': 1, 'all': 2, 'rely': 1, 'same': 1, 'repositoryend-to-end': 1, 'streaming:': 1, 'reports': 1, 'norm': 1, 'eliminates': 1, 'dedicated': 1, 'serving': 2, 'applicationsthese': 1, 'attributes': 1, 'grade': 1, 'additional': 1, 'security': 2, 'control': 1, 'basic': 1, 'requirements': 1, 'capabilities': 1, 'retention': 1, 'lineage': 1, 'become': 1, 'essential': 2, 'particularly': 2, 'light': 1, 'privacy': 1, 'regulations': 1, 'discovery': 1, 'catalogs': 1, 'usage': 1, 'metrics': 1, 'only': 1, 'implemented': 1, 'tested': 1, 'administered': 1, 'systemread': 1, 'full': 1, 'research': 1, 'paper': 1, 'inner': 1, 'workings': 1, 'lakehousesome': 1, 'early': 2, 'examplesthe': 1, 'platform': 1, 'architectural': 1, 'microsoft’s': 1, 'azure': 2, 'synapse': 1, 'service': 1, 'which': 2, 'integrates': 1, 'enables': 1, 'pattern': 1, 'managed': 1, 'services': 1, 'bigquery': 1, 'redshift': 1, 'spectrum': 1, 'listed': 1, 'above': 1, 'examples': 1, 'focus': 1, 'primarily': 1, 'who': 1, 'want': 1, 'build': 1, 'implement': 1, 'own': 1, 'file': 2, 'delta': 2, 'apache': 2, 'iceberg': 1, 'hudi': 1, 'lakehousemerging': 1, 'into': 2, 'teams': 1, 'faster': 1, 'without': 1, 'needing': 1, 'level': 1, 'integration': 1, 'among': 1, 'generally': 1, 'sufficient': 1, 'views': 1, 'stored': 1, 'procedures': 1, 'available': 2, 'may': 2, 'employ': 1, 'mechanisms': 1, 'aren’t': 1, 'equivalent': 1, 'found': 1, 'traditional': 1, 'latter': 1, 'important': 1, '“lift': 1, 'shift': 1, 'scenarios”': 1, 'achieve': 1, 'semantics': 1, 'identical': 1, 'older': 1, 'commercial': 1, 'warehouseswhat': 1, 'standard': 2, 'spark': 1, 'python': 1, 'r': 1, 'non': 1, 'like': 1, 'exploration': 1, 'refinement': 1, 'designed': 1, 'let': 1, 'incrementally': 1, 'improve': 2, 'until': 1, 'ready': 1, 'consumptiona': 1, 'note': 1, 'technical': 1, 'blocks': 1, 'distributed': 1, 'layer': 1, 'objects': 1, 'commonly': 1, 'excel': 1, 'massively': 1, 'parallel': 1, 'requirement': 1, 'warehousesfrom': 1, 'aithe': 1, 'radically': 1, 'simplifies': 1, 'infrastructure': 1, 'accelerates': 1, 'innovation': 1, 'age': 1, 'when': 1, 'poised': 1, 'disrupt': 1, 'every': 1, 'industry': 1, 'went': 1, 'company’s': 1, 'making': 1, 'was': 1, 'operational': 1, 'whereas': 1, 'today': 1, 'incorporate': 1, 'computer': 1, 'vision': 1, 'speech': 1, 'mining': 1, 'others': 2, 'why': 1, 'instead': 1, 'gives': 1, 'versioning': 1, 'properties': 2, 'even': 1, 'datacurrent': 1, 'reduce': 1, 'performance': 1, 'still': 1, 'lag': 1, 'investments': 1, 'real-world': 1, 'deployments': 1, 'behind': 1, 'them': 1, 'favor': 1, 'certain': 1, 'ides': 1, 'notebooks': 1, 'ux': 1, 'connectors': 1, 'popular': 1, 'appeal': 1, 'personas': 1, 'issues': 1, 'addressed': 1, 'continues': 1, 'mature': 1, 'develop': 1, 'time': 1, 'close': 1, 'gaps': 1, 'retaining': 1, 'core': 1, 'being': 1, 'simpler': 1, 'efficient': 1, 'capable': 1, 'applicationsread': 1, 'faq': 1, 'details': 1}\n",
            "Texto com: 1348 palavras.\n"
          ]
        }
      ]
    },
    {
      "cell_type": "markdown",
      "metadata": {
        "id": "s44VMljhpSLK"
      },
      "source": [
        "# Exibição dos Resultados"
      ]
    },
    {
      "cell_type": "code",
      "metadata": {
        "id": "zMy6IqwC9GJt",
        "colab": {
          "base_uri": "https://localhost:8080/",
          "height": 582
        },
        "outputId": "dcd4da7e-c0a0-4c3a-c720-0529cf71c84f"
      },
      "source": [
        "import pandas as pd\n",
        "import seaborn as sns\n",
        "import matplotlib as mpl\n",
        "import matplotlib.pyplot as plt\n",
        "\n",
        "df = pd.DataFrame(mydict.items(),  columns=['word', 'count']).sort_values('count',ascending=False)\n",
        "df = df[df['count'] > 10] # somente termos com mais de 10 ocorrências\n",
        "# df = df.iloc[ np.int(len(df)/2) - 10 : np.int(len(df)/2) + 10 ] # para livros ou textos com muitos termos limita a um número mínimo de termos\n",
        "\n",
        "plt.figure(figsize=(24,10))\n",
        "mpl.style.use(['seaborn'])\n",
        "sns.barplot(x=df.word,y=df['count'])\n",
        "plt.xticks(rotation=90) \n",
        "\n",
        "plt.show()"
      ],
      "execution_count": null,
      "outputs": [
        {
          "output_type": "display_data",
          "data": {
            "image/png": "[encoded data removed]",
            "text/plain": [
              "<Figure size 1728x720 with 1 Axes>"
            ]
          },
          "metadata": {
            "needs_background": "light"
          }
        }
      ]
    },
    {
      "cell_type": "code",
      "metadata": {
        "id": "UC16-jyuyNcR",
        "colab": {
          "base_uri": "https://localhost:8080/"
        },
        "outputId": "32347031-f48d-4e77-9484-c019c74468d6"
      },
      "source": [
        "new_dict = {}   # guarda as maiores ocorrências\n",
        "ord = {}        # guarda na ordem decrescente\n",
        "\n",
        "for k,v in mydict.items():\n",
        "    if v > 10:\n",
        "      new_dict[k] = v\n",
        "\n",
        "ord = sorted(new_dict.items(), key=lambda kv: kv[1], reverse=True)\n",
        "\n",
        "seq = 1\n",
        "print('Seq.   Qtd   Palavra ')\n",
        "for k,v in ord:\n",
        "  if seq < 10:\n",
        "    print(seq, 'º   ',v, '  ',k)\n",
        "  else:\n",
        "    print(seq, 'º  ',v, '  ',k)  \n",
        "  seq += 1"
      ],
      "execution_count": null,
      "outputs": [
        {
          "output_type": "stream",
          "name": "stdout",
          "text": [
            "Seq.   Qtd   Palavra \n",
            "1 º    77    data\n",
            "2 º    62    and\n",
            "3 º    42    the\n",
            "4 º    38    to\n",
            "5 º    38    of\n",
            "6 º    35    a\n",
            "7 º    30    for\n",
            "8 º    22    are\n",
            "9 º    21    in\n",
            "10 º   18    that\n",
            "11 º   17    lakehouse\n",
            "12 º   15    systems\n",
            "13 º   13    many\n",
            "14 º   12    have\n",
            "15 º   11    warehouses\n"
          ]
        }
      ]
    },
    {
      "cell_type": "markdown",
      "metadata": {
        "id": "YuEt-iUahC1X"
      },
      "source": [
        "# Conclusão\n",
        "\n",
        "Conforme a Lei de Zipf, a amostra utilizada para estudo demostrou muitas ocorrências de preposições e artigos, contudo, a palavra com maior frenquência é **data**, encontrada 77 vezes no texto.\n",
        "\n",
        "Ranking das principais palavras encontradas:\n",
        "\n",
        "1ª data\n",
        "\n",
        "11ª lakehouse\n",
        "\n",
        "12ª systems\n",
        "\n",
        "15ª warehouses\n"
      ]
    },
    {
      "cell_type": "markdown",
      "metadata": {
        "id": "YGPig_J3hRzL"
      },
      "source": [
        "\n",
        "---\n",
        "Compartilhado em: https://colab.research.google.com/drive/11kaSj9vLJQxEcP9O05e2SXXl4_3HObCx?usp=sharing\n",
        "---"
      ]
    }
  ]
}