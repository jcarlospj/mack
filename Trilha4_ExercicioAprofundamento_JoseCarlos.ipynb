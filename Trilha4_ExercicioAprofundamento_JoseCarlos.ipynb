{
  "nbformat": 4,
  "nbformat_minor": 0,
  "metadata": {
    "colab": {
      "name": "Trilha4_ExercicioAprofundamento_JoseCarlos.ipynb",
      "provenance": [],
      "collapsed_sections": [
        "iubZQEb71EHd",
        "42yF1G-yHu98",
        "irUloP4YHH8n",
        "_zrNu_lEHhsP",
        "OfEScFxBKY3e",
        "u0rWQ7awKt5V",
        "g3zb4AW7ORMD"
      ],
      "include_colab_link": true
    },
    "kernelspec": {
      "name": "python3",
      "display_name": "Python 3"
    },
    "language_info": {
      "name": "python"
    }
  },
  "cells": [
    {
      "cell_type": "markdown",
      "metadata": {
        "id": "view-in-github",
        "colab_type": "text"
      },
      "source": [
        "<a href=\"https://colab.research.google.com/github/jcarlospj/mack/blob/main/Trilha4_ExercicioAprofundamento_JoseCarlos.ipynb\" target=\"_parent\"><img src=\"https://colab.research.google.com/assets/colab-badge.svg\" alt=\"Open In Colab\"/></a>"
      ]
    },
    {
      "cell_type": "markdown",
      "metadata": {
        "id": "iubZQEb71EHd"
      },
      "source": [
        "<head>\n",
        "  <meta name=\"author\" content=\"Rogério de Oliveira\">\n",
        "  <meta institution=\"author\" content=\"Universidade Presbiteriana Mackenzie\">\n",
        "</head>\n",
        "\n",
        "<img src=\"http://meusite.mackenzie.br/rogerio/mackenzie_logo/UPM.2_horizontal_vermelho.jpg\" width=300, align=\"right\"> \n",
        "\n",
        "<h1 align=left><font size = 8, style=\"color:rgb(200,0,0)\"><b>Ciência de Dados </b></font></h1> \n",
        "<h1 align=left><font size = 5, style=\"color:rgb(0,0,0)\"><b>Paradigmas de Linguagens de\n",
        "Programação para Ciência de Dados</b></font></h1> \n",
        "\n",
        "# 4 Estudos de Caso de Análise de Dados I\n",
        "Professores: *Diego Nogare* & *Rogério de Oliveira* \n",
        "\n",
        "\n",
        "Aluno: José Carlos Pereira Jorge\n",
        "<br>\n",
        "\n",
        "\n",
        "\n",
        "---\n",
        "\n",
        "Com o lançamento do 5G e as inovações Tecnológicas o telefone celular é e será cada vez mais importante para inclusão digital e social, além da melhoria na velocidade, espera-se que a rede 5G gere um ecossistema massivo para a Internet das Coisas (IoT), conectando bilhões de dispositivos.\n",
        "<br>\n",
        "Neste sentido, fiz a análise baseada na quantidade de celulares e população mundial.\n",
        "\n",
        "\n",
        "\n",
        "---\n",
        "\n"
      ]
    },
    {
      "cell_type": "markdown",
      "metadata": {
        "id": "42yF1G-yHu98"
      },
      "source": [
        "# Exercícios"
      ]
    },
    {
      "cell_type": "code",
      "metadata": {
        "id": "-sQD_AuCkWp8"
      },
      "source": [
        "import numpy as np\n",
        "import pandas as pd\n",
        "import matplotlib.pyplot as plt\n",
        "%matplotlib inline\n",
        "import seaborn as sns\n"
      ],
      "execution_count": 1,
      "outputs": []
    },
    {
      "cell_type": "markdown",
      "metadata": {
        "id": "irUloP4YHH8n"
      },
      "source": [
        "# Telefones Celulares no Mundo\n",
        "\n",
        "Os dados abaixo foram obtidos de: https://www.gapminder.org/data/\n",
        "\n",
        "\n",
        "\n",
        "Arquivos:\n",
        "<br>\n",
        "cell_phones_total.xlsx\n",
        "<br>\n",
        "population_total.xlsx\n",
        "<br>\n",
        "\n",
        "\n",
        "\n",
        "---\n",
        "\n"
      ]
    },
    {
      "cell_type": "code",
      "metadata": {
        "id": "1IgZTqak5ajs"
      },
      "source": [
        "## Importando os datasets\n",
        "url= ('https://github.com/jcarlospj/mack/blob/802f613cd662cbe625f8c16cd7b87a5ef2736ea1/cell_phones_total.xlsx?raw=true')\n",
        "dfCelular= pd.read_excel(url)\n",
        "\n",
        "url= ('https://github.com/jcarlospj/mack/blob/802f613cd662cbe625f8c16cd7b87a5ef2736ea1/population_total.xlsx?raw=true')\n",
        "dfPopulacao= pd.read_excel(url)\n"
      ],
      "execution_count": 2,
      "outputs": []
    },
    {
      "cell_type": "markdown",
      "source": [
        ""
      ],
      "metadata": {
        "id": "_VQxfPRnSX4w"
      }
    },
    {
      "cell_type": "code",
      "source": [
        "# Removendo as colunas do dataset Celular, deixando somente 2019\n",
        "dfCelular.drop(dfCelular.columns[[1,2,3,4,5,6,7,8,9,10,11,12,13,14,15,16,17,18,19,20,21,22,23,24,25,26,27,28,29,30,31,32,33,34,35,36,37,38,39,40,41,42,43,44,45,46,47,48,49,50,51,52,53,54,55,56,57,58,59,60]], axis=1, inplace=True)\n"
      ],
      "metadata": {
        "id": "Gk0ywsnlWjsi"
      },
      "execution_count": 3,
      "outputs": []
    },
    {
      "cell_type": "code",
      "source": [
        "# Removendo as colunas do dataset População, deixando somente 2019\n",
        "dfPopulacao.drop(dfPopulacao.columns[[1,2,3,4,5,6,7,8,9,10,11,12,13,14,15,16,17,18,19,20,21,22,23,24,25,26,27,28,29,30,31,32,33,34,35,36,37,38,39,40,41,42,43,44,45,46,47,48,49,50,51,52,53,54,55,56,57,58,59,60,61,62,63,64,65,66,67,68,69,70,71,72,73,74,75,76,77,78,79,80,81,82,83,84,85,86,87,88,89,90,91,92,93,94,95,96,97,98,99,100,101,102,103,104,105,106,107,108,109,110,111,112,113,114,115,116,117,118,119,120,121,122,123,124,125,126,127,128,129,130,131,132,133,134,135,136,137,138,139,140,141,142,143,144,145,146,147,148,149,150,151,152,153,154,155,156,157,158,159,160,161,162,163,164,165,166,167,168,169,170,171,172,173,174,175,176,177,178,179,180,181,182,183,184,185,186,187,188,189,190,191,192,193,194,195,196,197,198,199,200,201,202,203,204,205,206,207,208,209,210,211,212,213,214,215,216,217,218,219,220,222,223,224,225,226,227,228,229,230,231,232,233,234,235,236,237,238,239,240,241,242,243,244,245,246,247,248,249,250,251,252,253,254,255,256,257,258,259,260,261,262,263,264,265,266,267,268,269,270,271,272,273,274,275,276,277,278,279,280,281,282,283,284,285,286,287,288,289,290,291,292,293,294,295,296,297,298,299,300,301]], axis=1, inplace=True)\n",
        "\n"
      ],
      "metadata": {
        "id": "piasty-lZI1D"
      },
      "execution_count": 4,
      "outputs": []
    },
    {
      "cell_type": "markdown",
      "metadata": {
        "id": "_zrNu_lEHhsP"
      },
      "source": [
        "# Qualidade dos Dados\n",
        "\n",
        "Verifique a Qualidade dos Dados. Quantos atributos apresentam dados ausentes a qual atributo tem o maior percentual de dados ausentes?"
      ]
    },
    {
      "cell_type": "code",
      "metadata": {
        "id": "fRHY5L195lOj",
        "colab": {
          "base_uri": "https://localhost:8080/",
          "height": 424
        },
        "outputId": "dc4b8112-6ce3-4d13-e36b-955596de99d8"
      },
      "source": [
        "# Verifica se há campos nulos, Dataset Celular\n",
        "dfCelularNULL = dfCelular[dfCelular.isnull().values.any(axis=1)]\n",
        "dfCelularNULL"
      ],
      "execution_count": 5,
      "outputs": [
        {
          "output_type": "execute_result",
          "data": {
            "text/html": [
              "<div>\n",
              "<style scoped>\n",
              "    .dataframe tbody tr th:only-of-type {\n",
              "        vertical-align: middle;\n",
              "    }\n",
              "\n",
              "    .dataframe tbody tr th {\n",
              "        vertical-align: top;\n",
              "    }\n",
              "\n",
              "    .dataframe thead th {\n",
              "        text-align: right;\n",
              "    }\n",
              "</style>\n",
              "<table border=\"1\" class=\"dataframe\">\n",
              "  <thead>\n",
              "    <tr style=\"text-align: right;\">\n",
              "      <th></th>\n",
              "      <th>country</th>\n",
              "      <th>2019</th>\n",
              "    </tr>\n",
              "  </thead>\n",
              "  <tbody>\n",
              "    <tr>\n",
              "      <th>0</th>\n",
              "      <td>Aruba</td>\n",
              "      <td>NaN</td>\n",
              "    </tr>\n",
              "    <tr>\n",
              "      <th>4</th>\n",
              "      <td>Andorra</td>\n",
              "      <td>NaN</td>\n",
              "    </tr>\n",
              "    <tr>\n",
              "      <th>8</th>\n",
              "      <td>American Samoa</td>\n",
              "      <td>NaN</td>\n",
              "    </tr>\n",
              "    <tr>\n",
              "      <th>9</th>\n",
              "      <td>Antigua and Barbuda</td>\n",
              "      <td>NaN</td>\n",
              "    </tr>\n",
              "    <tr>\n",
              "      <th>20</th>\n",
              "      <td>Bahamas</td>\n",
              "      <td>NaN</td>\n",
              "    </tr>\n",
              "    <tr>\n",
              "      <th>...</th>\n",
              "      <td>...</td>\n",
              "      <td>...</td>\n",
              "    </tr>\n",
              "    <tr>\n",
              "      <th>200</th>\n",
              "      <td>Uruguay</td>\n",
              "      <td>NaN</td>\n",
              "    </tr>\n",
              "    <tr>\n",
              "      <th>201</th>\n",
              "      <td>United States</td>\n",
              "      <td>NaN</td>\n",
              "    </tr>\n",
              "    <tr>\n",
              "      <th>206</th>\n",
              "      <td>Virgin Islands (U.S.)</td>\n",
              "      <td>NaN</td>\n",
              "    </tr>\n",
              "    <tr>\n",
              "      <th>209</th>\n",
              "      <td>Samoa</td>\n",
              "      <td>NaN</td>\n",
              "    </tr>\n",
              "    <tr>\n",
              "      <th>210</th>\n",
              "      <td>Yemen</td>\n",
              "      <td>NaN</td>\n",
              "    </tr>\n",
              "  </tbody>\n",
              "</table>\n",
              "<p>68 rows × 2 columns</p>\n",
              "</div>"
            ],
            "text/plain": [
              "                   country 2019\n",
              "0                    Aruba  NaN\n",
              "4                  Andorra  NaN\n",
              "8           American Samoa  NaN\n",
              "9      Antigua and Barbuda  NaN\n",
              "20                 Bahamas  NaN\n",
              "..                     ...  ...\n",
              "200                Uruguay  NaN\n",
              "201          United States  NaN\n",
              "206  Virgin Islands (U.S.)  NaN\n",
              "209                  Samoa  NaN\n",
              "210                  Yemen  NaN\n",
              "\n",
              "[68 rows x 2 columns]"
            ]
          },
          "metadata": {},
          "execution_count": 5
        }
      ]
    },
    {
      "cell_type": "code",
      "source": [
        "# Trata campos nulos, atualizando com zero\n",
        "dfCelular = dfCelular.fillna(0).astype(str)"
      ],
      "metadata": {
        "id": "XNCjqBnNVJ2B"
      },
      "execution_count": 6,
      "outputs": []
    },
    {
      "cell_type": "code",
      "source": [
        "# Verifica se há campos nulos, novamente no Data set Celular\n",
        "dfCelularNULL = dfCelular[dfCelular.isnull().values.any(axis=1)]\n",
        "dfCelularNULL\n"
      ],
      "metadata": {
        "colab": {
          "base_uri": "https://localhost:8080/",
          "height": 49
        },
        "id": "Ahgm-DG0VPUZ",
        "outputId": "1f99b1a5-22ee-43a3-8070-f5708d7a5ff7"
      },
      "execution_count": 7,
      "outputs": [
        {
          "output_type": "execute_result",
          "data": {
            "text/html": [
              "<div>\n",
              "<style scoped>\n",
              "    .dataframe tbody tr th:only-of-type {\n",
              "        vertical-align: middle;\n",
              "    }\n",
              "\n",
              "    .dataframe tbody tr th {\n",
              "        vertical-align: top;\n",
              "    }\n",
              "\n",
              "    .dataframe thead th {\n",
              "        text-align: right;\n",
              "    }\n",
              "</style>\n",
              "<table border=\"1\" class=\"dataframe\">\n",
              "  <thead>\n",
              "    <tr style=\"text-align: right;\">\n",
              "      <th></th>\n",
              "      <th>country</th>\n",
              "      <th>2019</th>\n",
              "    </tr>\n",
              "  </thead>\n",
              "  <tbody>\n",
              "  </tbody>\n",
              "</table>\n",
              "</div>"
            ],
            "text/plain": [
              "Empty DataFrame\n",
              "Columns: [country, 2019]\n",
              "Index: []"
            ]
          },
          "metadata": {},
          "execution_count": 7
        }
      ]
    },
    {
      "cell_type": "code",
      "source": [
        "# Verifica se há campos nulos, Data set População\n",
        "dfPopulacaoNULL = dfPopulacao[dfPopulacao.isnull().values.any(axis=1)]\n",
        "dfPopulacaoNULL"
      ],
      "metadata": {
        "colab": {
          "base_uri": "https://localhost:8080/",
          "height": 49
        },
        "id": "nqAHh0E-Qsvb",
        "outputId": "74e916e9-82c6-4c6b-e060-f53c66b5473a"
      },
      "execution_count": 8,
      "outputs": [
        {
          "output_type": "execute_result",
          "data": {
            "text/html": [
              "<div>\n",
              "<style scoped>\n",
              "    .dataframe tbody tr th:only-of-type {\n",
              "        vertical-align: middle;\n",
              "    }\n",
              "\n",
              "    .dataframe tbody tr th {\n",
              "        vertical-align: top;\n",
              "    }\n",
              "\n",
              "    .dataframe thead th {\n",
              "        text-align: right;\n",
              "    }\n",
              "</style>\n",
              "<table border=\"1\" class=\"dataframe\">\n",
              "  <thead>\n",
              "    <tr style=\"text-align: right;\">\n",
              "      <th></th>\n",
              "      <th>country</th>\n",
              "      <th>2019</th>\n",
              "    </tr>\n",
              "  </thead>\n",
              "  <tbody>\n",
              "  </tbody>\n",
              "</table>\n",
              "</div>"
            ],
            "text/plain": [
              "Empty DataFrame\n",
              "Columns: [country, 2019]\n",
              "Index: []"
            ]
          },
          "metadata": {},
          "execution_count": 8
        }
      ]
    },
    {
      "cell_type": "code",
      "source": [
        "# Atualiza dados para mesma unidade de medida Data set Celular e População\n",
        "# K = Mil (x1.000)\n",
        "# M = Milhão (x1.000.000)\n",
        "# B = Bilhão (x1.000.000.000)\n",
        "# T = Trilhão (x1.000.000.000.000)\n",
        "for i in (dfCelular.columns.get_loc(c) for c in dfCelular.columns if c in dfCelular):\n",
        "  if i > 0:\n",
        "    dfCelular[dfCelular.columns[i]] = dfCelular[dfCelular.columns[i]].replace({'k': '*1e6','M': '*1e6','B': '*1e9', 'T': '*1e12'}, regex=True).map(pd.eval).astype(int)\n",
        "\n"
      ],
      "metadata": {
        "id": "zT4huiV0Xjaa"
      },
      "execution_count": 9,
      "outputs": []
    },
    {
      "cell_type": "code",
      "source": [
        "# Atualiza dados para mesma unidade de medida Data set População\n",
        "# K = Mil (x1.000)\n",
        "# M = Milhão (x1.000.000)\n",
        "# B = Bilhão (x1.000.000.000)\n",
        "# T = Trilhão (x1.000.000.000.000)\n",
        "for i in (dfPopulacao.columns.get_loc(c) for c in dfPopulacao.columns if c in dfPopulacao):\n",
        "  if i > 0:\n",
        "    dfPopulacao[dfPopulacao.columns[i]] = dfPopulacao[dfPopulacao.columns[i]].replace({'k': '*1e6','M': '*1e6','B': '*1e9', 'T': '*1e12'}, regex=True).map(pd.eval).astype(int)\n",
        "\n"
      ],
      "metadata": {
        "id": "4YVQQflLpWii"
      },
      "execution_count": 10,
      "outputs": []
    },
    {
      "cell_type": "markdown",
      "metadata": {
        "id": "OfEScFxBKY3e"
      },
      "source": [
        "# Distribuição dos Dados\n",
        "\n",
        "Filtrando os dados, análise somente do periodo de 1995 à 2019"
      ]
    },
    {
      "cell_type": "code",
      "source": [
        "display(dfCelular.shape)\n",
        "display(dfCelular.head())"
      ],
      "metadata": {
        "colab": {
          "base_uri": "https://localhost:8080/",
          "height": 224
        },
        "id": "mLZsXFwDq62g",
        "outputId": "bcf83cba-8316-409b-ff27-77a398080c99"
      },
      "execution_count": 11,
      "outputs": [
        {
          "output_type": "display_data",
          "data": {
            "text/plain": [
              "(214, 2)"
            ]
          },
          "metadata": {}
        },
        {
          "output_type": "display_data",
          "data": {
            "text/html": [
              "<div>\n",
              "<style scoped>\n",
              "    .dataframe tbody tr th:only-of-type {\n",
              "        vertical-align: middle;\n",
              "    }\n",
              "\n",
              "    .dataframe tbody tr th {\n",
              "        vertical-align: top;\n",
              "    }\n",
              "\n",
              "    .dataframe thead th {\n",
              "        text-align: right;\n",
              "    }\n",
              "</style>\n",
              "<table border=\"1\" class=\"dataframe\">\n",
              "  <thead>\n",
              "    <tr style=\"text-align: right;\">\n",
              "      <th></th>\n",
              "      <th>country</th>\n",
              "      <th>2019</th>\n",
              "    </tr>\n",
              "  </thead>\n",
              "  <tbody>\n",
              "    <tr>\n",
              "      <th>0</th>\n",
              "      <td>Aruba</td>\n",
              "      <td>0</td>\n",
              "    </tr>\n",
              "    <tr>\n",
              "      <th>1</th>\n",
              "      <td>Afghanistan</td>\n",
              "      <td>22700000</td>\n",
              "    </tr>\n",
              "    <tr>\n",
              "      <th>2</th>\n",
              "      <td>Angola</td>\n",
              "      <td>14600000</td>\n",
              "    </tr>\n",
              "    <tr>\n",
              "      <th>3</th>\n",
              "      <td>Albania</td>\n",
              "      <td>2620000</td>\n",
              "    </tr>\n",
              "    <tr>\n",
              "      <th>4</th>\n",
              "      <td>Andorra</td>\n",
              "      <td>0</td>\n",
              "    </tr>\n",
              "  </tbody>\n",
              "</table>\n",
              "</div>"
            ],
            "text/plain": [
              "       country      2019\n",
              "0        Aruba         0\n",
              "1  Afghanistan  22700000\n",
              "2       Angola  14600000\n",
              "3      Albania   2620000\n",
              "4      Andorra         0"
            ]
          },
          "metadata": {}
        }
      ]
    },
    {
      "cell_type": "code",
      "source": [
        "display(dfPopulacao.shape)\n",
        "display(dfPopulacao.head())"
      ],
      "metadata": {
        "colab": {
          "base_uri": "https://localhost:8080/",
          "height": 224
        },
        "id": "P9odmuncq29q",
        "outputId": "f3ac0856-eb1b-4e47-bd30-66117d2d4558"
      },
      "execution_count": 12,
      "outputs": [
        {
          "output_type": "display_data",
          "data": {
            "text/plain": [
              "(197, 2)"
            ]
          },
          "metadata": {}
        },
        {
          "output_type": "display_data",
          "data": {
            "text/html": [
              "<div>\n",
              "<style scoped>\n",
              "    .dataframe tbody tr th:only-of-type {\n",
              "        vertical-align: middle;\n",
              "    }\n",
              "\n",
              "    .dataframe tbody tr th {\n",
              "        vertical-align: top;\n",
              "    }\n",
              "\n",
              "    .dataframe thead th {\n",
              "        text-align: right;\n",
              "    }\n",
              "</style>\n",
              "<table border=\"1\" class=\"dataframe\">\n",
              "  <thead>\n",
              "    <tr style=\"text-align: right;\">\n",
              "      <th></th>\n",
              "      <th>country</th>\n",
              "      <th>2019</th>\n",
              "    </tr>\n",
              "  </thead>\n",
              "  <tbody>\n",
              "    <tr>\n",
              "      <th>0</th>\n",
              "      <td>Afghanistan</td>\n",
              "      <td>38900000</td>\n",
              "    </tr>\n",
              "    <tr>\n",
              "      <th>1</th>\n",
              "      <td>Angola</td>\n",
              "      <td>32900000</td>\n",
              "    </tr>\n",
              "    <tr>\n",
              "      <th>2</th>\n",
              "      <td>Albania</td>\n",
              "      <td>2880000</td>\n",
              "    </tr>\n",
              "    <tr>\n",
              "      <th>3</th>\n",
              "      <td>Andorra</td>\n",
              "      <td>77300000</td>\n",
              "    </tr>\n",
              "    <tr>\n",
              "      <th>4</th>\n",
              "      <td>United Arab Emirates</td>\n",
              "      <td>9890000</td>\n",
              "    </tr>\n",
              "  </tbody>\n",
              "</table>\n",
              "</div>"
            ],
            "text/plain": [
              "                country      2019\n",
              "0           Afghanistan  38900000\n",
              "1                Angola  32900000\n",
              "2               Albania   2880000\n",
              "3               Andorra  77300000\n",
              "4  United Arab Emirates   9890000"
            ]
          },
          "metadata": {}
        }
      ]
    },
    {
      "cell_type": "markdown",
      "metadata": {
        "id": "u0rWQ7awKt5V"
      },
      "source": [
        "# Relações\n",
        "\n",
        "Correlações Celulares x População  "
      ]
    },
    {
      "cell_type": "code",
      "metadata": {
        "id": "RWxUK-s3MMiT",
        "colab": {
          "base_uri": "https://localhost:8080/"
        },
        "outputId": "8d0ad923-31b2-4506-b82f-9818e440eb2d"
      },
      "source": [
        "# Selecionar os anos do arquivo\n",
        "anos = list(dfCelular.columns.values)\n",
        "anos.remove('country')\n",
        "anos\n"
      ],
      "execution_count": 13,
      "outputs": [
        {
          "output_type": "execute_result",
          "data": {
            "text/plain": [
              "[2019]"
            ]
          },
          "metadata": {},
          "execution_count": 13
        }
      ]
    },
    {
      "cell_type": "code",
      "source": [
        "# Agrupamentos - 2019\n",
        "celulares = {}\n",
        "populacao = {}\n",
        "\n",
        "# Celulares\n",
        "for i in range(len(dfCelular)):                            # Passa por cada país\n",
        "    soma_celular = 0\n",
        "    for ano in anos:                             # Seleciona cada anos\n",
        "        soma_celular += dfCelular.iloc[i][ano]              # Faz a soma de todos os valores por país\n",
        "        celulares[i] = soma_celular                             # Insere o valor da soma por país no dicionário\n",
        "        celulares[dfCelular.country.values[i]] = celulares.pop(i)    # Substitui o número pelo nome do país\n",
        "\n",
        "#População\n",
        "for i in range(len(dfPopulacao)):                            # Passa por cada país\n",
        "    soma_populacao = 0\n",
        "    for ano in anos:                             # Seleciona cada anos\n",
        "        soma_populacao += dfPopulacao.iloc[i][ano]              # Faz a soma de todos os valores por país\n",
        "        populacao[i] = soma_populacao                             # Insere o valor da soma por país no dicionário\n",
        "        populacao[dfPopulacao.country.values[i]] = populacao.pop(i)    # Substitui o número pelo nome do país\n"
      ],
      "metadata": {
        "id": "yTriN9IU2HSk"
      },
      "execution_count": 14,
      "outputs": []
    },
    {
      "cell_type": "code",
      "source": [
        "celulares"
      ],
      "metadata": {
        "colab": {
          "base_uri": "https://localhost:8080/"
        },
        "id": "TkTHUMAT5Nbc",
        "outputId": "ec164f0c-f8b6-4aca-c204-fdc723b3ed8c"
      },
      "execution_count": 15,
      "outputs": [
        {
          "output_type": "execute_result",
          "data": {
            "text/plain": [
              "{'Afghanistan': 22700000,\n",
              " 'Albania': 2620000,\n",
              " 'Algeria': 45600000,\n",
              " 'American Samoa': 0,\n",
              " 'Andorra': 0,\n",
              " 'Angola': 14600000,\n",
              " 'Antigua and Barbuda': 0,\n",
              " 'Argentina': 54800000,\n",
              " 'Armenia': 3490000,\n",
              " 'Aruba': 0,\n",
              " 'Australia': 27500000,\n",
              " 'Austria': 10700000,\n",
              " 'Azerbaijan': 10300000,\n",
              " 'Bahamas': 0,\n",
              " 'Bahrain': 1750000,\n",
              " 'Bangladesh': 170000000,\n",
              " 'Barbados': 0,\n",
              " 'Belarus': 11700000,\n",
              " 'Belgium': 11500000,\n",
              " 'Belize': 0,\n",
              " 'Benin': 11100000,\n",
              " 'Bermuda': 0,\n",
              " 'Bhutan': 745000000,\n",
              " 'Bolivia': 11800000,\n",
              " 'Bosnia and Herzegovina': 3510000,\n",
              " 'Botswana': 3820000,\n",
              " 'Brazil': 206000000,\n",
              " 'British Virgin Islands': 35200000,\n",
              " 'Brunei': 527000000,\n",
              " 'Bulgaria': 7950000,\n",
              " 'Burkina Faso': 22100000,\n",
              " 'Burundi': 6630000,\n",
              " 'Cambodia': 0,\n",
              " 'Cameroon': 25200000,\n",
              " 'Canada': 36100000,\n",
              " 'Cape Verde': 545000000,\n",
              " 'Cayman Islands': 0,\n",
              " 'Central African Republic': 0,\n",
              " 'Chad': 8690000,\n",
              " 'Chile': 25100000,\n",
              " 'China': 1700000000,\n",
              " 'Colombia': 67700000,\n",
              " 'Comoros': 473000000,\n",
              " 'Congo, Dem. Rep.': 40800000,\n",
              " 'Congo, Rep.': 0,\n",
              " 'Costa Rica': 7510000,\n",
              " \"Cote d'Ivoire\": 40100000,\n",
              " 'Croatia': 4380000,\n",
              " 'Cuba': 6660000,\n",
              " 'Curaçao': 0,\n",
              " 'Cyprus': 1230000,\n",
              " 'Czech Republic': 13000000,\n",
              " 'Denmark': 7140000,\n",
              " 'Djibouti': 434000000,\n",
              " 'Dominica': 0,\n",
              " 'Dominican Republic': 8990000,\n",
              " 'Ecuador': 15500000,\n",
              " 'Egypt': 95400000,\n",
              " 'El Salvador': 0,\n",
              " 'Equatorial Guinea': 0,\n",
              " 'Eritrea': 0,\n",
              " 'Estonia': 1930000,\n",
              " 'Eswatini': 0,\n",
              " 'Ethiopia': 0,\n",
              " 'Faeroe Islands': 59000000,\n",
              " 'Fiji': 0,\n",
              " 'Finland': 7120000,\n",
              " 'France': 72800000,\n",
              " 'French Polynesia': 0,\n",
              " 'Gabon': 3090000,\n",
              " 'Gambia': 2680000,\n",
              " 'Georgia': 5100000,\n",
              " 'Germany': 108000000,\n",
              " 'Ghana': 40500000,\n",
              " 'Gibraltar': 0,\n",
              " 'Greece': 11400000,\n",
              " 'Greenland': 0,\n",
              " 'Grenada': 0,\n",
              " 'Guam': 0,\n",
              " 'Guatemala': 20400000,\n",
              " 'Guinea': 0,\n",
              " 'Guinea-Bissau': 1910000,\n",
              " 'Guyana': 0,\n",
              " 'Haiti': 0,\n",
              " 'Honduras': 6960000,\n",
              " 'Hong Kong, China': 21900000,\n",
              " 'Hungary': 10300000,\n",
              " 'Iceland': 421000000,\n",
              " 'India': 1150000000,\n",
              " 'Indonesia': 356000000,\n",
              " 'Iran': 128000000,\n",
              " 'Iraq': 36900000,\n",
              " 'Ireland': 5230000,\n",
              " 'Israel': 11400000,\n",
              " 'Italy': 77800000,\n",
              " 'Jamaica': 2870000,\n",
              " 'Japan': 192000000,\n",
              " 'Jordan': 6990000,\n",
              " 'Kazakhstan': 25200000,\n",
              " 'Kenya': 61400000,\n",
              " 'Kiribati': 54700000,\n",
              " 'Kosovo': 0,\n",
              " 'Kuwait': 6770000,\n",
              " 'Kyrgyz Republic': 0,\n",
              " 'Lao': 0,\n",
              " 'Latvia': 2049999,\n",
              " 'Lebanon': 4290000,\n",
              " 'Lesotho': 1560000,\n",
              " 'Liberia': 0,\n",
              " 'Libya': 0,\n",
              " 'Liechtenstein': 48900000,\n",
              " 'Lithuania': 4740000,\n",
              " 'Luxembourg': 890000000,\n",
              " 'Macao, China': 0,\n",
              " 'Madagascar': 0,\n",
              " 'Malawi': 10000000,\n",
              " 'Malaysia': 43700000,\n",
              " 'Maldives': 718000000,\n",
              " 'Mali': 25300000,\n",
              " 'Malta': 633000000,\n",
              " 'Marshall Islands': 0,\n",
              " 'Mauritania': 4930000,\n",
              " 'Mauritius': 1910000,\n",
              " 'Mexico': 120000000,\n",
              " 'Micronesia, Fed. Sts.': 0,\n",
              " 'Moldova': 3420000,\n",
              " 'Monaco': 35500000,\n",
              " 'Mongolia': 4360000,\n",
              " 'Montenegro': 1080000,\n",
              " 'Morocco': 49400000,\n",
              " 'Mozambique': 0,\n",
              " 'Myanmar': 0,\n",
              " 'Namibia': 2590000,\n",
              " 'Nauru': 0,\n",
              " 'Nepal': 0,\n",
              " 'Netherlands': 21400000,\n",
              " 'New Caledonia': 0,\n",
              " 'New Zealand': 0,\n",
              " 'Nicaragua': 5980000,\n",
              " 'Niger': 0,\n",
              " 'Nigeria': 204000000,\n",
              " 'North Korea': 0,\n",
              " 'North Macedonia': 1830000,\n",
              " 'Northern Mariana Islands': 0,\n",
              " 'Norway': 5830000,\n",
              " 'Oman': 6280000,\n",
              " 'Pakistan': 176000000,\n",
              " 'Palau': 0,\n",
              " 'Palestine': 4270000,\n",
              " 'Panama': 5710000,\n",
              " 'Papua New Guinea': 0,\n",
              " 'Paraguay': 0,\n",
              " 'Peru': 0,\n",
              " 'Philippines': 0,\n",
              " 'Poland': 49400000,\n",
              " 'Portugal': 11900000,\n",
              " 'Puerto Rico': 3480000,\n",
              " 'Qatar': 3800000,\n",
              " 'Romania': 22600000,\n",
              " 'Russia': 239000000,\n",
              " 'Rwanda': 10600000,\n",
              " 'Samoa': 0,\n",
              " 'San Marino': 0,\n",
              " 'Sao Tome and Principe': 174000000,\n",
              " 'Saudi Arabia': 43200000,\n",
              " 'Senegal': 19100000,\n",
              " 'Serbia': 8260000,\n",
              " 'Seychelles': 183000000,\n",
              " 'Sierra Leone': 6880000,\n",
              " 'Singapore': 8430000,\n",
              " 'Sint Maarten (Dutch part)': 0,\n",
              " 'Slovak Republic': 7290000,\n",
              " 'Slovenia': 2550000,\n",
              " 'Solomon Islands': 0,\n",
              " 'Somalia': 0,\n",
              " 'South Africa': 96000000,\n",
              " 'South Korea': 70500000,\n",
              " 'South Sudan': 0,\n",
              " 'Spain': 55600000,\n",
              " 'Sri Lanka': 29700000,\n",
              " 'St. Kitts and Nevis': 0,\n",
              " 'St. Lucia': 0,\n",
              " 'St. Vincent and the Grenadines': 97100000,\n",
              " 'Sudan': 35200000,\n",
              " 'Suriname': 899000000,\n",
              " 'Sweden': 13000000,\n",
              " 'Switzerland': 10900000,\n",
              " 'Syria': 16700000,\n",
              " 'Tajikistan': 0,\n",
              " 'Tanzania': 51200000,\n",
              " 'Thailand': 116000000,\n",
              " 'Timor-Leste': 1380000,\n",
              " 'Togo': 6520000,\n",
              " 'Tonga': 0,\n",
              " 'Trinidad and Tobago': 1990000,\n",
              " 'Tunisia': 14900000,\n",
              " 'Turkey': 82100000,\n",
              " 'Turkmenistan': 0,\n",
              " 'Turks and Caicos Islands': 0,\n",
              " 'Tuvalu': 0,\n",
              " 'Uganda': 27700000,\n",
              " 'Ukraine': 54000000,\n",
              " 'United Arab Emirates': 18400000,\n",
              " 'United Kingdom': 79000000,\n",
              " 'United States': 0,\n",
              " 'Uruguay': 0,\n",
              " 'Uzbekistan': 33400000,\n",
              " 'Vanuatu': 246000000,\n",
              " 'Venezuela': 18000000,\n",
              " 'Vietnam': 139000000,\n",
              " 'Virgin Islands (U.S.)': 0,\n",
              " 'Yemen': 0,\n",
              " 'Zambia': 19100000,\n",
              " 'Zimbabwe': 13200000}"
            ]
          },
          "metadata": {},
          "execution_count": 15
        }
      ]
    },
    {
      "cell_type": "code",
      "source": [
        "populacao"
      ],
      "metadata": {
        "colab": {
          "base_uri": "https://localhost:8080/"
        },
        "id": "Atk3ICRzp-Fp",
        "outputId": "92ba2214-dc53-4bd4-ae85-c8b53f7172da"
      },
      "execution_count": 16,
      "outputs": [
        {
          "output_type": "execute_result",
          "data": {
            "text/plain": [
              "{'Afghanistan': 38900000,\n",
              " 'Albania': 2880000,\n",
              " 'Algeria': 43900000,\n",
              " 'Andorra': 77300000,\n",
              " 'Angola': 32900000,\n",
              " 'Antigua and Barbuda': 97900000,\n",
              " 'Argentina': 45200000,\n",
              " 'Armenia': 2960000,\n",
              " 'Australia': 25500000,\n",
              " 'Austria': 9010000,\n",
              " 'Azerbaijan': 10100000,\n",
              " 'Bahamas': 393000000,\n",
              " 'Bahrain': 1700000,\n",
              " 'Bangladesh': 165000000,\n",
              " 'Barbados': 287000000,\n",
              " 'Belarus': 9450000,\n",
              " 'Belgium': 11600000,\n",
              " 'Belize': 398000000,\n",
              " 'Benin': 12100000,\n",
              " 'Bhutan': 772000000,\n",
              " 'Bolivia': 11700000,\n",
              " 'Bosnia and Herzegovina': 3280000,\n",
              " 'Botswana': 2350000,\n",
              " 'Brazil': 213000000,\n",
              " 'Brunei': 437000000,\n",
              " 'Bulgaria': 6950000,\n",
              " 'Burkina Faso': 20900000,\n",
              " 'Burundi': 11900000,\n",
              " 'Cambodia': 16700000,\n",
              " 'Cameroon': 26500000,\n",
              " 'Canada': 37700000,\n",
              " 'Cape Verde': 556000000,\n",
              " 'Central African Republic': 4830000,\n",
              " 'Chad': 16399999,\n",
              " 'Chile': 19100000,\n",
              " 'China': 1440000000,\n",
              " 'Colombia': 50900000,\n",
              " 'Comoros': 870000000,\n",
              " 'Congo, Dem. Rep.': 89600000,\n",
              " 'Congo, Rep.': 5520000,\n",
              " 'Costa Rica': 5090000,\n",
              " \"Cote d'Ivoire\": 26400000,\n",
              " 'Croatia': 4110000,\n",
              " 'Cuba': 11300000,\n",
              " 'Cyprus': 1210000,\n",
              " 'Czech Republic': 10700000,\n",
              " 'Denmark': 5790000,\n",
              " 'Djibouti': 988000000,\n",
              " 'Dominica': 72000000,\n",
              " 'Dominican Republic': 10800000,\n",
              " 'Ecuador': 17600000,\n",
              " 'Egypt': 102000000,\n",
              " 'El Salvador': 6490000,\n",
              " 'Equatorial Guinea': 1400000,\n",
              " 'Eritrea': 3550000,\n",
              " 'Estonia': 1330000,\n",
              " 'Eswatini': 1160000,\n",
              " 'Ethiopia': 115000000,\n",
              " 'Fiji': 896000000,\n",
              " 'Finland': 5540000,\n",
              " 'France': 65300000,\n",
              " 'Gabon': 2230000,\n",
              " 'Gambia': 2420000,\n",
              " 'Georgia': 3990000,\n",
              " 'Germany': 83800000,\n",
              " 'Ghana': 31100000,\n",
              " 'Greece': 10400000,\n",
              " 'Grenada': 113000000,\n",
              " 'Guatemala': 17900000,\n",
              " 'Guinea': 13100000,\n",
              " 'Guinea-Bissau': 1970000,\n",
              " 'Guyana': 787000000,\n",
              " 'Haiti': 11400000,\n",
              " 'Holy See': 809,\n",
              " 'Honduras': 9900000,\n",
              " 'Hong Kong, China': 7500000,\n",
              " 'Hungary': 9660000,\n",
              " 'Iceland': 341000000,\n",
              " 'India': 1380000000,\n",
              " 'Indonesia': 274000000,\n",
              " 'Iran': 84000000,\n",
              " 'Iraq': 40200000,\n",
              " 'Ireland': 4940000,\n",
              " 'Israel': 8660000,\n",
              " 'Italy': 60500000,\n",
              " 'Jamaica': 2960000,\n",
              " 'Japan': 126000000,\n",
              " 'Jordan': 10200000,\n",
              " 'Kazakhstan': 18800000,\n",
              " 'Kenya': 53800000,\n",
              " 'Kiribati': 119000000,\n",
              " 'Kuwait': 4270000,\n",
              " 'Kyrgyz Republic': 6520000,\n",
              " 'Lao': 7280000,\n",
              " 'Latvia': 1890000,\n",
              " 'Lebanon': 6830000,\n",
              " 'Lesotho': 2140000,\n",
              " 'Liberia': 5060000,\n",
              " 'Libya': 6870000,\n",
              " 'Liechtenstein': 38100000,\n",
              " 'Lithuania': 2720000,\n",
              " 'Luxembourg': 626000000,\n",
              " 'Madagascar': 27700000,\n",
              " 'Malawi': 19100000,\n",
              " 'Malaysia': 32400000,\n",
              " 'Maldives': 541000000,\n",
              " 'Mali': 20300000,\n",
              " 'Malta': 442000000,\n",
              " 'Marshall Islands': 59200000,\n",
              " 'Mauritania': 4650000,\n",
              " 'Mauritius': 1270000,\n",
              " 'Mexico': 129000000,\n",
              " 'Micronesia, Fed. Sts.': 115000000,\n",
              " 'Moldova': 4030000,\n",
              " 'Monaco': 39200000,\n",
              " 'Mongolia': 3280000,\n",
              " 'Montenegro': 628000000,\n",
              " 'Morocco': 36900000,\n",
              " 'Mozambique': 31300000,\n",
              " 'Myanmar': 54400000,\n",
              " 'Namibia': 2540000,\n",
              " 'Nauru': 10800000,\n",
              " 'Nepal': 29100000,\n",
              " 'Netherlands': 17100000,\n",
              " 'New Zealand': 4820000,\n",
              " 'Nicaragua': 6620000,\n",
              " 'Niger': 24200000,\n",
              " 'Nigeria': 206000000,\n",
              " 'North Korea': 25800000,\n",
              " 'North Macedonia': 2080000,\n",
              " 'Norway': 5420000,\n",
              " 'Oman': 5110000,\n",
              " 'Pakistan': 221000000,\n",
              " 'Palau': 18100000,\n",
              " 'Palestine': 5100000,\n",
              " 'Panama': 4310000,\n",
              " 'Papua New Guinea': 8950000,\n",
              " 'Paraguay': 7130000,\n",
              " 'Peru': 33000000,\n",
              " 'Philippines': 110000000,\n",
              " 'Poland': 37800000,\n",
              " 'Portugal': 10200000,\n",
              " 'Qatar': 2880000,\n",
              " 'Romania': 19200000,\n",
              " 'Russia': 146000000,\n",
              " 'Rwanda': 13000000,\n",
              " 'Samoa': 198000000,\n",
              " 'San Marino': 33900000,\n",
              " 'Sao Tome and Principe': 219000000,\n",
              " 'Saudi Arabia': 34800000,\n",
              " 'Senegal': 16700000,\n",
              " 'Serbia': 8740000,\n",
              " 'Seychelles': 98300000,\n",
              " 'Sierra Leone': 7980000,\n",
              " 'Singapore': 5850000,\n",
              " 'Slovak Republic': 5460000,\n",
              " 'Slovenia': 2080000,\n",
              " 'Solomon Islands': 687000000,\n",
              " 'Somalia': 15900000,\n",
              " 'South Africa': 59300000,\n",
              " 'South Korea': 51300000,\n",
              " 'South Sudan': 11200000,\n",
              " 'Spain': 46800000,\n",
              " 'Sri Lanka': 21400000,\n",
              " 'St. Kitts and Nevis': 53200000,\n",
              " 'St. Lucia': 184000000,\n",
              " 'St. Vincent and the Grenadines': 111000000,\n",
              " 'Sudan': 43800000,\n",
              " 'Suriname': 587000000,\n",
              " 'Sweden': 10100000,\n",
              " 'Switzerland': 8650000,\n",
              " 'Syria': 17500000,\n",
              " 'Taiwan': 23800000,\n",
              " 'Tajikistan': 9540000,\n",
              " 'Tanzania': 59700000,\n",
              " 'Thailand': 69800000,\n",
              " 'Timor-Leste': 1320000,\n",
              " 'Togo': 8279999,\n",
              " 'Tonga': 106000000,\n",
              " 'Trinidad and Tobago': 1400000,\n",
              " 'Tunisia': 11800000,\n",
              " 'Turkey': 84300000,\n",
              " 'Turkmenistan': 6030000,\n",
              " 'Tuvalu': 11800000,\n",
              " 'Uganda': 45700000,\n",
              " 'Ukraine': 43700000,\n",
              " 'United Arab Emirates': 9890000,\n",
              " 'United Kingdom': 67900000,\n",
              " 'United States': 331000000,\n",
              " 'Uruguay': 3470000,\n",
              " 'Uzbekistan': 33500000,\n",
              " 'Vanuatu': 307000000,\n",
              " 'Venezuela': 28400000,\n",
              " 'Vietnam': 97300000,\n",
              " 'Yemen': 29800000,\n",
              " 'Zambia': 18400000,\n",
              " 'Zimbabwe': 14900000}"
            ]
          },
          "metadata": {},
          "execution_count": 16
        }
      ]
    },
    {
      "cell_type": "code",
      "source": [
        "# Lista Decrescente Quantidade Celualres por País\n",
        "dfCel = pd.DataFrame(celulares.items(),  columns=['Country','soma_celular']).sort_values('soma_celular',ascending=False)\n",
        "dfCel"
      ],
      "metadata": {
        "colab": {
          "base_uri": "https://localhost:8080/",
          "height": 424
        },
        "id": "InLAuj0e5fKP",
        "outputId": "b23c2a24-fd37-436e-ce1f-7646a3565461"
      },
      "execution_count": 17,
      "outputs": [
        {
          "output_type": "execute_result",
          "data": {
            "text/html": [
              "<div>\n",
              "<style scoped>\n",
              "    .dataframe tbody tr th:only-of-type {\n",
              "        vertical-align: middle;\n",
              "    }\n",
              "\n",
              "    .dataframe tbody tr th {\n",
              "        vertical-align: top;\n",
              "    }\n",
              "\n",
              "    .dataframe thead th {\n",
              "        text-align: right;\n",
              "    }\n",
              "</style>\n",
              "<table border=\"1\" class=\"dataframe\">\n",
              "  <thead>\n",
              "    <tr style=\"text-align: right;\">\n",
              "      <th></th>\n",
              "      <th>Country</th>\n",
              "      <th>soma_celular</th>\n",
              "    </tr>\n",
              "  </thead>\n",
              "  <tbody>\n",
              "    <tr>\n",
              "      <th>35</th>\n",
              "      <td>China</td>\n",
              "      <td>1700000000</td>\n",
              "    </tr>\n",
              "    <tr>\n",
              "      <th>86</th>\n",
              "      <td>India</td>\n",
              "      <td>1150000000</td>\n",
              "    </tr>\n",
              "    <tr>\n",
              "      <th>177</th>\n",
              "      <td>Suriname</td>\n",
              "      <td>899000000</td>\n",
              "    </tr>\n",
              "    <tr>\n",
              "      <th>114</th>\n",
              "      <td>Luxembourg</td>\n",
              "      <td>890000000</td>\n",
              "    </tr>\n",
              "    <tr>\n",
              "      <th>29</th>\n",
              "      <td>Bhutan</td>\n",
              "      <td>745000000</td>\n",
              "    </tr>\n",
              "    <tr>\n",
              "      <th>...</th>\n",
              "      <td>...</td>\n",
              "      <td>...</td>\n",
              "    </tr>\n",
              "    <tr>\n",
              "      <th>109</th>\n",
              "      <td>St. Lucia</td>\n",
              "      <td>0</td>\n",
              "    </tr>\n",
              "    <tr>\n",
              "      <th>108</th>\n",
              "      <td>Libya</td>\n",
              "      <td>0</td>\n",
              "    </tr>\n",
              "    <tr>\n",
              "      <th>105</th>\n",
              "      <td>Lao</td>\n",
              "      <td>0</td>\n",
              "    </tr>\n",
              "    <tr>\n",
              "      <th>103</th>\n",
              "      <td>Kosovo</td>\n",
              "      <td>0</td>\n",
              "    </tr>\n",
              "    <tr>\n",
              "      <th>107</th>\n",
              "      <td>Liberia</td>\n",
              "      <td>0</td>\n",
              "    </tr>\n",
              "  </tbody>\n",
              "</table>\n",
              "<p>214 rows × 2 columns</p>\n",
              "</div>"
            ],
            "text/plain": [
              "        Country  soma_celular\n",
              "35        China    1700000000\n",
              "86        India    1150000000\n",
              "177    Suriname     899000000\n",
              "114  Luxembourg     890000000\n",
              "29       Bhutan     745000000\n",
              "..          ...           ...\n",
              "109   St. Lucia             0\n",
              "108       Libya             0\n",
              "105         Lao             0\n",
              "103      Kosovo             0\n",
              "107     Liberia             0\n",
              "\n",
              "[214 rows x 2 columns]"
            ]
          },
          "metadata": {},
          "execution_count": 17
        }
      ]
    },
    {
      "cell_type": "code",
      "source": [
        "# Lista Decrescente Quantidade Populacao por País\n",
        "dfPop = pd.DataFrame(populacao.items(),  columns=['Country','soma_populacao']).sort_values('soma_populacao',ascending=False)\n",
        "dfPop"
      ],
      "metadata": {
        "colab": {
          "base_uri": "https://localhost:8080/",
          "height": 424
        },
        "id": "ipCNRwTsqIG7",
        "outputId": "29f1dfc5-961c-4c3a-d39a-fc3ddbd25dcf"
      },
      "execution_count": 18,
      "outputs": [
        {
          "output_type": "execute_result",
          "data": {
            "text/html": [
              "<div>\n",
              "<style scoped>\n",
              "    .dataframe tbody tr th:only-of-type {\n",
              "        vertical-align: middle;\n",
              "    }\n",
              "\n",
              "    .dataframe tbody tr th {\n",
              "        vertical-align: top;\n",
              "    }\n",
              "\n",
              "    .dataframe thead th {\n",
              "        text-align: right;\n",
              "    }\n",
              "</style>\n",
              "<table border=\"1\" class=\"dataframe\">\n",
              "  <thead>\n",
              "    <tr style=\"text-align: right;\">\n",
              "      <th></th>\n",
              "      <th>Country</th>\n",
              "      <th>soma_populacao</th>\n",
              "    </tr>\n",
              "  </thead>\n",
              "  <tbody>\n",
              "    <tr>\n",
              "      <th>32</th>\n",
              "      <td>China</td>\n",
              "      <td>1440000000</td>\n",
              "    </tr>\n",
              "    <tr>\n",
              "      <th>79</th>\n",
              "      <td>India</td>\n",
              "      <td>1380000000</td>\n",
              "    </tr>\n",
              "    <tr>\n",
              "      <th>45</th>\n",
              "      <td>Djibouti</td>\n",
              "      <td>988000000</td>\n",
              "    </tr>\n",
              "    <tr>\n",
              "      <th>57</th>\n",
              "      <td>Fiji</td>\n",
              "      <td>896000000</td>\n",
              "    </tr>\n",
              "    <tr>\n",
              "      <th>38</th>\n",
              "      <td>Comoros</td>\n",
              "      <td>870000000</td>\n",
              "    </tr>\n",
              "    <tr>\n",
              "      <th>...</th>\n",
              "      <td>...</td>\n",
              "      <td>...</td>\n",
              "    </tr>\n",
              "    <tr>\n",
              "      <th>175</th>\n",
              "      <td>Timor-Leste</td>\n",
              "      <td>1320000</td>\n",
              "    </tr>\n",
              "    <tr>\n",
              "      <th>123</th>\n",
              "      <td>Mauritius</td>\n",
              "      <td>1270000</td>\n",
              "    </tr>\n",
              "    <tr>\n",
              "      <th>42</th>\n",
              "      <td>Cyprus</td>\n",
              "      <td>1210000</td>\n",
              "    </tr>\n",
              "    <tr>\n",
              "      <th>167</th>\n",
              "      <td>Eswatini</td>\n",
              "      <td>1160000</td>\n",
              "    </tr>\n",
              "    <tr>\n",
              "      <th>74</th>\n",
              "      <td>Holy See</td>\n",
              "      <td>809</td>\n",
              "    </tr>\n",
              "  </tbody>\n",
              "</table>\n",
              "<p>197 rows × 2 columns</p>\n",
              "</div>"
            ],
            "text/plain": [
              "         Country  soma_populacao\n",
              "32         China      1440000000\n",
              "79         India      1380000000\n",
              "45      Djibouti       988000000\n",
              "57          Fiji       896000000\n",
              "38       Comoros       870000000\n",
              "..           ...             ...\n",
              "175  Timor-Leste         1320000\n",
              "123    Mauritius         1270000\n",
              "42        Cyprus         1210000\n",
              "167     Eswatini         1160000\n",
              "74      Holy See             809\n",
              "\n",
              "[197 rows x 2 columns]"
            ]
          },
          "metadata": {},
          "execution_count": 18
        }
      ]
    },
    {
      "cell_type": "code",
      "source": [
        "# Gráfico Celulares \n",
        "plt.figure(figsize=(15,8))\n",
        "plt.style.use(['seaborn'])\n",
        "sns.barplot(x=dfCel.Country,y=dfCel.soma_celular)\n",
        "plt.xticks(rotation=90) \n",
        "\n",
        "plt.show()"
      ],
      "metadata": {
        "colab": {
          "base_uri": "https://localhost:8080/",
          "height": 636
        },
        "id": "mBcUVBI15o8s",
        "outputId": "7cf9e7c9-026f-47c3-c84d-cea903bedc92"
      },
      "execution_count": 19,
      "outputs": [
        {
          "output_type": "display_data",
          "data": {
            "image/png": "[encoded data removed]",
            "text/plain": [
              "<Figure size 1080x576 with 1 Axes>"
            ]
          },
          "metadata": {
            "needs_background": "light"
          }
        }
      ]
    },
    {
      "cell_type": "code",
      "source": [
        "# Filtro para países com mais de 200 milhões de celulares\n",
        "dfCelTops = dfCel[dfCel['soma_celular'] > 200000000] \n",
        "dfPopTops = dfPop[dfPop['soma_populacao'] > 200000000] \n",
        "\n",
        "plt.figure(figsize=(15,8))\n",
        "plt.style.use(['seaborn'])\n",
        "sns.barplot(x=dfCelTops.Country,y=dfCelTops.soma_celular)\n",
        "plt.xticks(rotation=90) \n",
        "\n",
        "plt.show()"
      ],
      "metadata": {
        "colab": {
          "base_uri": "https://localhost:8080/",
          "height": 553
        },
        "id": "wKaG7agK6B7s",
        "outputId": "80f448fb-3c2d-4fed-d583-33a120cbf32b"
      },
      "execution_count": 37,
      "outputs": [
        {
          "output_type": "display_data",
          "data": {
            "image/png": "[encoded data removed]",
            "text/plain": [
              "<Figure size 1080x576 with 1 Axes>"
            ]
          },
          "metadata": {}
        }
      ]
    },
    {
      "cell_type": "markdown",
      "metadata": {
        "id": "1WkN-T57LUjd"
      },
      "source": [
        "# Ranking\n",
        "\n",
        "Qual a posição do Brasil no Ranking de Celulares com relação aos demais países? "
      ]
    },
    {
      "cell_type": "code",
      "metadata": {
        "id": "2fheoxdEMNaQ",
        "colab": {
          "base_uri": "https://localhost:8080/",
          "height": 551
        },
        "outputId": "5f21e22d-9062-443e-9fa1-7e5e4f3f1522"
      },
      "source": [
        "# Países com maior quantidade de celulares\n",
        "display(dfCelTops.head(16))\n"
      ],
      "execution_count": 21,
      "outputs": [
        {
          "output_type": "display_data",
          "data": {
            "text/html": [
              "<div>\n",
              "<style scoped>\n",
              "    .dataframe tbody tr th:only-of-type {\n",
              "        vertical-align: middle;\n",
              "    }\n",
              "\n",
              "    .dataframe tbody tr th {\n",
              "        vertical-align: top;\n",
              "    }\n",
              "\n",
              "    .dataframe thead th {\n",
              "        text-align: right;\n",
              "    }\n",
              "</style>\n",
              "<table border=\"1\" class=\"dataframe\">\n",
              "  <thead>\n",
              "    <tr style=\"text-align: right;\">\n",
              "      <th></th>\n",
              "      <th>Country</th>\n",
              "      <th>soma_celular</th>\n",
              "    </tr>\n",
              "  </thead>\n",
              "  <tbody>\n",
              "    <tr>\n",
              "      <th>35</th>\n",
              "      <td>China</td>\n",
              "      <td>1700000000</td>\n",
              "    </tr>\n",
              "    <tr>\n",
              "      <th>86</th>\n",
              "      <td>India</td>\n",
              "      <td>1150000000</td>\n",
              "    </tr>\n",
              "    <tr>\n",
              "      <th>177</th>\n",
              "      <td>Suriname</td>\n",
              "      <td>899000000</td>\n",
              "    </tr>\n",
              "    <tr>\n",
              "      <th>114</th>\n",
              "      <td>Luxembourg</td>\n",
              "      <td>890000000</td>\n",
              "    </tr>\n",
              "    <tr>\n",
              "      <th>29</th>\n",
              "      <td>Bhutan</td>\n",
              "      <td>745000000</td>\n",
              "    </tr>\n",
              "    <tr>\n",
              "      <th>121</th>\n",
              "      <td>Maldives</td>\n",
              "      <td>718000000</td>\n",
              "    </tr>\n",
              "    <tr>\n",
              "      <th>126</th>\n",
              "      <td>Malta</td>\n",
              "      <td>633000000</td>\n",
              "    </tr>\n",
              "    <tr>\n",
              "      <th>42</th>\n",
              "      <td>Cape Verde</td>\n",
              "      <td>545000000</td>\n",
              "    </tr>\n",
              "    <tr>\n",
              "      <th>28</th>\n",
              "      <td>Brunei</td>\n",
              "      <td>527000000</td>\n",
              "    </tr>\n",
              "    <tr>\n",
              "      <th>41</th>\n",
              "      <td>Comoros</td>\n",
              "      <td>473000000</td>\n",
              "    </tr>\n",
              "    <tr>\n",
              "      <th>49</th>\n",
              "      <td>Djibouti</td>\n",
              "      <td>434000000</td>\n",
              "    </tr>\n",
              "    <tr>\n",
              "      <th>90</th>\n",
              "      <td>Iceland</td>\n",
              "      <td>421000000</td>\n",
              "    </tr>\n",
              "    <tr>\n",
              "      <th>85</th>\n",
              "      <td>Indonesia</td>\n",
              "      <td>356000000</td>\n",
              "    </tr>\n",
              "    <tr>\n",
              "      <th>208</th>\n",
              "      <td>Vanuatu</td>\n",
              "      <td>246000000</td>\n",
              "    </tr>\n",
              "    <tr>\n",
              "      <th>163</th>\n",
              "      <td>Russia</td>\n",
              "      <td>239000000</td>\n",
              "    </tr>\n",
              "    <tr>\n",
              "      <th>26</th>\n",
              "      <td>Brazil</td>\n",
              "      <td>206000000</td>\n",
              "    </tr>\n",
              "  </tbody>\n",
              "</table>\n",
              "</div>"
            ],
            "text/plain": [
              "        Country  soma_celular\n",
              "35        China    1700000000\n",
              "86        India    1150000000\n",
              "177    Suriname     899000000\n",
              "114  Luxembourg     890000000\n",
              "29       Bhutan     745000000\n",
              "121    Maldives     718000000\n",
              "126       Malta     633000000\n",
              "42   Cape Verde     545000000\n",
              "28       Brunei     527000000\n",
              "41      Comoros     473000000\n",
              "49     Djibouti     434000000\n",
              "90      Iceland     421000000\n",
              "85    Indonesia     356000000\n",
              "208     Vanuatu     246000000\n",
              "163      Russia     239000000\n",
              "26       Brazil     206000000"
            ]
          },
          "metadata": {}
        }
      ]
    },
    {
      "cell_type": "markdown",
      "source": [
        "O Brasil esta em 16º pais com maior numeros de celulares no mundo."
      ],
      "metadata": {
        "id": "PuG8XR4h8bnb"
      }
    },
    {
      "cell_type": "code",
      "source": [
        "# Países com maior populacao\n",
        "display(dfPopTops.head(16))"
      ],
      "metadata": {
        "colab": {
          "base_uri": "https://localhost:8080/",
          "height": 551
        },
        "id": "RwV9hkIpda0i",
        "outputId": "7cd3bb93-8006-4685-f818-23c40b7d0f9e"
      },
      "execution_count": 36,
      "outputs": [
        {
          "output_type": "display_data",
          "data": {
            "text/html": [
              "<div>\n",
              "<style scoped>\n",
              "    .dataframe tbody tr th:only-of-type {\n",
              "        vertical-align: middle;\n",
              "    }\n",
              "\n",
              "    .dataframe tbody tr th {\n",
              "        vertical-align: top;\n",
              "    }\n",
              "\n",
              "    .dataframe thead th {\n",
              "        text-align: right;\n",
              "    }\n",
              "</style>\n",
              "<table border=\"1\" class=\"dataframe\">\n",
              "  <thead>\n",
              "    <tr style=\"text-align: right;\">\n",
              "      <th></th>\n",
              "      <th>Country</th>\n",
              "      <th>soma_populacao</th>\n",
              "    </tr>\n",
              "  </thead>\n",
              "  <tbody>\n",
              "    <tr>\n",
              "      <th>32</th>\n",
              "      <td>China</td>\n",
              "      <td>1440000000</td>\n",
              "    </tr>\n",
              "    <tr>\n",
              "      <th>79</th>\n",
              "      <td>India</td>\n",
              "      <td>1380000000</td>\n",
              "    </tr>\n",
              "    <tr>\n",
              "      <th>45</th>\n",
              "      <td>Djibouti</td>\n",
              "      <td>988000000</td>\n",
              "    </tr>\n",
              "    <tr>\n",
              "      <th>57</th>\n",
              "      <td>Fiji</td>\n",
              "      <td>896000000</td>\n",
              "    </tr>\n",
              "    <tr>\n",
              "      <th>38</th>\n",
              "      <td>Comoros</td>\n",
              "      <td>870000000</td>\n",
              "    </tr>\n",
              "    <tr>\n",
              "      <th>71</th>\n",
              "      <td>Guyana</td>\n",
              "      <td>787000000</td>\n",
              "    </tr>\n",
              "    <tr>\n",
              "      <th>26</th>\n",
              "      <td>Bhutan</td>\n",
              "      <td>772000000</td>\n",
              "    </tr>\n",
              "    <tr>\n",
              "      <th>155</th>\n",
              "      <td>Solomon Islands</td>\n",
              "      <td>687000000</td>\n",
              "    </tr>\n",
              "    <tr>\n",
              "      <th>119</th>\n",
              "      <td>Montenegro</td>\n",
              "      <td>628000000</td>\n",
              "    </tr>\n",
              "    <tr>\n",
              "      <th>106</th>\n",
              "      <td>Luxembourg</td>\n",
              "      <td>626000000</td>\n",
              "    </tr>\n",
              "    <tr>\n",
              "      <th>163</th>\n",
              "      <td>Suriname</td>\n",
              "      <td>587000000</td>\n",
              "    </tr>\n",
              "    <tr>\n",
              "      <th>39</th>\n",
              "      <td>Cape Verde</td>\n",
              "      <td>556000000</td>\n",
              "    </tr>\n",
              "    <tr>\n",
              "      <th>112</th>\n",
              "      <td>Maldives</td>\n",
              "      <td>541000000</td>\n",
              "    </tr>\n",
              "    <tr>\n",
              "      <th>117</th>\n",
              "      <td>Malta</td>\n",
              "      <td>442000000</td>\n",
              "    </tr>\n",
              "    <tr>\n",
              "      <th>25</th>\n",
              "      <td>Brunei</td>\n",
              "      <td>437000000</td>\n",
              "    </tr>\n",
              "    <tr>\n",
              "      <th>21</th>\n",
              "      <td>Belize</td>\n",
              "      <td>398000000</td>\n",
              "    </tr>\n",
              "  </tbody>\n",
              "</table>\n",
              "</div>"
            ],
            "text/plain": [
              "             Country  soma_populacao\n",
              "32             China      1440000000\n",
              "79             India      1380000000\n",
              "45          Djibouti       988000000\n",
              "57              Fiji       896000000\n",
              "38           Comoros       870000000\n",
              "71            Guyana       787000000\n",
              "26            Bhutan       772000000\n",
              "155  Solomon Islands       687000000\n",
              "119       Montenegro       628000000\n",
              "106       Luxembourg       626000000\n",
              "163         Suriname       587000000\n",
              "39        Cape Verde       556000000\n",
              "112         Maldives       541000000\n",
              "117            Malta       442000000\n",
              "25            Brunei       437000000\n",
              "21            Belize       398000000"
            ]
          },
          "metadata": {}
        }
      ]
    },
    {
      "cell_type": "code",
      "source": [
        "# Filtro para países com mais de 200 milhões de Celulares ou População\n",
        "dfCelTops = dfCel[dfCel['soma_celular'] > 200000000] \n",
        "dfPopTops = dfPop[dfPop['soma_populacao'] > 200000000] \n",
        "\n",
        "# Merge Dataset Celuar e População\n",
        "DadosM = pd.merge(dfCelTops, dfPopTops, how = 'inner', on = 'Country')\n"
      ],
      "metadata": {
        "id": "EZaElLlknYDM"
      },
      "execution_count": 22,
      "outputs": []
    },
    {
      "cell_type": "code",
      "source": [
        "# Dataset origem\n",
        "display(dfCelTops[dfCelTops.Country == 'Brazil'],dfPopTops[dfPopTops.Country == 'Brazil'])\n",
        "\n",
        "# Dataset Merge Brasil\n",
        "DadosBrasil = DadosM[DadosM.Country == 'Brazil']\n",
        "DadosBrasil"
      ],
      "metadata": {
        "colab": {
          "base_uri": "https://localhost:8080/",
          "height": 208
        },
        "id": "lxRgoDrVjm19",
        "outputId": "b6ef070b-9694-49c6-bef6-449c68657bf2"
      },
      "execution_count": 23,
      "outputs": [
        {
          "output_type": "display_data",
          "data": {
            "text/html": [
              "<div>\n",
              "<style scoped>\n",
              "    .dataframe tbody tr th:only-of-type {\n",
              "        vertical-align: middle;\n",
              "    }\n",
              "\n",
              "    .dataframe tbody tr th {\n",
              "        vertical-align: top;\n",
              "    }\n",
              "\n",
              "    .dataframe thead th {\n",
              "        text-align: right;\n",
              "    }\n",
              "</style>\n",
              "<table border=\"1\" class=\"dataframe\">\n",
              "  <thead>\n",
              "    <tr style=\"text-align: right;\">\n",
              "      <th></th>\n",
              "      <th>Country</th>\n",
              "      <th>soma_celular</th>\n",
              "    </tr>\n",
              "  </thead>\n",
              "  <tbody>\n",
              "    <tr>\n",
              "      <th>26</th>\n",
              "      <td>Brazil</td>\n",
              "      <td>206000000</td>\n",
              "    </tr>\n",
              "  </tbody>\n",
              "</table>\n",
              "</div>"
            ],
            "text/plain": [
              "   Country  soma_celular\n",
              "26  Brazil     206000000"
            ]
          },
          "metadata": {}
        },
        {
          "output_type": "display_data",
          "data": {
            "text/html": [
              "<div>\n",
              "<style scoped>\n",
              "    .dataframe tbody tr th:only-of-type {\n",
              "        vertical-align: middle;\n",
              "    }\n",
              "\n",
              "    .dataframe tbody tr th {\n",
              "        vertical-align: top;\n",
              "    }\n",
              "\n",
              "    .dataframe thead th {\n",
              "        text-align: right;\n",
              "    }\n",
              "</style>\n",
              "<table border=\"1\" class=\"dataframe\">\n",
              "  <thead>\n",
              "    <tr style=\"text-align: right;\">\n",
              "      <th></th>\n",
              "      <th>Country</th>\n",
              "      <th>soma_populacao</th>\n",
              "    </tr>\n",
              "  </thead>\n",
              "  <tbody>\n",
              "    <tr>\n",
              "      <th>23</th>\n",
              "      <td>Brazil</td>\n",
              "      <td>213000000</td>\n",
              "    </tr>\n",
              "  </tbody>\n",
              "</table>\n",
              "</div>"
            ],
            "text/plain": [
              "   Country  soma_populacao\n",
              "23  Brazil       213000000"
            ]
          },
          "metadata": {}
        },
        {
          "output_type": "execute_result",
          "data": {
            "text/html": [
              "<div>\n",
              "<style scoped>\n",
              "    .dataframe tbody tr th:only-of-type {\n",
              "        vertical-align: middle;\n",
              "    }\n",
              "\n",
              "    .dataframe tbody tr th {\n",
              "        vertical-align: top;\n",
              "    }\n",
              "\n",
              "    .dataframe thead th {\n",
              "        text-align: right;\n",
              "    }\n",
              "</style>\n",
              "<table border=\"1\" class=\"dataframe\">\n",
              "  <thead>\n",
              "    <tr style=\"text-align: right;\">\n",
              "      <th></th>\n",
              "      <th>Country</th>\n",
              "      <th>soma_celular</th>\n",
              "      <th>soma_populacao</th>\n",
              "    </tr>\n",
              "  </thead>\n",
              "  <tbody>\n",
              "    <tr>\n",
              "      <th>14</th>\n",
              "      <td>Brazil</td>\n",
              "      <td>206000000</td>\n",
              "      <td>213000000</td>\n",
              "    </tr>\n",
              "  </tbody>\n",
              "</table>\n",
              "</div>"
            ],
            "text/plain": [
              "   Country  soma_celular  soma_populacao\n",
              "14  Brazil     206000000       213000000"
            ]
          },
          "metadata": {},
          "execution_count": 23
        }
      ]
    },
    {
      "cell_type": "code",
      "source": [
        "# Gráfico Brasil\n",
        "plt.figure(figsize=(3,6))\n",
        "plt.bar(DadosBrasil.Country,DadosBrasil.soma_populacao,color=\"green\",bottom=0,label=\"Populacao\")\n",
        "plt.bar(DadosBrasil.Country,DadosBrasil.soma_celular,color=\"blue\",bottom=0,label=\"Celular\")\n",
        "\n",
        "plt.legend(loc=\"lower left\",bbox_to_anchor=(0.8,1.0))\n",
        "plt.show()\n"
      ],
      "metadata": {
        "colab": {
          "base_uri": "https://localhost:8080/",
          "height": 412
        },
        "id": "xBCC_Ehv-tek",
        "outputId": "3fb3f50d-8816-41a6-9ba2-b2bafd07b086"
      },
      "execution_count": 24,
      "outputs": [
        {
          "output_type": "display_data",
          "data": {
            "image/png": "[encoded data removed]",
            "text/plain": [
              "<Figure size 216x432 with 1 Axes>"
            ]
          },
          "metadata": {}
        }
      ]
    },
    {
      "cell_type": "code",
      "source": [
        "# Grafico Top Países\n",
        "plt.figure(figsize=(19,7))\n",
        "plt.bar(DadosM.Country,DadosM.soma_populacao,color=\"Purple\",bottom=0,label=\"Populacao\")\n",
        "plt.bar(DadosM.Country,DadosM.soma_celular,color=\"Pink\",bottom=0,label=\"Celular\")\n",
        "\n",
        "plt.legend(loc=\"lower left\",bbox_to_anchor=(0.8,1.0))\n",
        "plt.show()"
      ],
      "metadata": {
        "colab": {
          "base_uri": "https://localhost:8080/",
          "height": 466
        },
        "id": "YhKve6-qts8G",
        "outputId": "4d01a6ce-3af3-4666-a55e-a4af832b8bff"
      },
      "execution_count": 25,
      "outputs": [
        {
          "output_type": "display_data",
          "data": {
            "image/png": "[encoded data removed]",
            "text/plain": [
              "<Figure size 1368x504 with 1 Axes>"
            ]
          },
          "metadata": {}
        }
      ]
    },
    {
      "cell_type": "code",
      "source": [
        "# Países que o grafico não apresentou diferenças entre os volumes de celulares e população:\n",
        "display(DadosM[DadosM.Country == 'Suriname'],DadosM[DadosM.Country == 'Luxembourg'],DadosM[DadosM.Country == 'Maldives'],DadosM[DadosM.Country == 'Malta'])"
      ],
      "metadata": {
        "colab": {
          "base_uri": "https://localhost:8080/",
          "height": 272
        },
        "id": "e2xqqyhfChMb",
        "outputId": "d60f5f32-1609-407c-b6a7-4f6aa86481cc"
      },
      "execution_count": 38,
      "outputs": [
        {
          "output_type": "display_data",
          "data": {
            "text/html": [
              "<div>\n",
              "<style scoped>\n",
              "    .dataframe tbody tr th:only-of-type {\n",
              "        vertical-align: middle;\n",
              "    }\n",
              "\n",
              "    .dataframe tbody tr th {\n",
              "        vertical-align: top;\n",
              "    }\n",
              "\n",
              "    .dataframe thead th {\n",
              "        text-align: right;\n",
              "    }\n",
              "</style>\n",
              "<table border=\"1\" class=\"dataframe\">\n",
              "  <thead>\n",
              "    <tr style=\"text-align: right;\">\n",
              "      <th></th>\n",
              "      <th>Country</th>\n",
              "      <th>soma_celular</th>\n",
              "      <th>soma_populacao</th>\n",
              "      <th>Percentual</th>\n",
              "    </tr>\n",
              "  </thead>\n",
              "  <tbody>\n",
              "    <tr>\n",
              "      <th>2</th>\n",
              "      <td>Suriname</td>\n",
              "      <td>899000000</td>\n",
              "      <td>587000000</td>\n",
              "      <td>153.151618</td>\n",
              "    </tr>\n",
              "  </tbody>\n",
              "</table>\n",
              "</div>"
            ],
            "text/plain": [
              "    Country  soma_celular  soma_populacao  Percentual\n",
              "2  Suriname     899000000       587000000  153.151618"
            ]
          },
          "metadata": {}
        },
        {
          "output_type": "display_data",
          "data": {
            "text/html": [
              "<div>\n",
              "<style scoped>\n",
              "    .dataframe tbody tr th:only-of-type {\n",
              "        vertical-align: middle;\n",
              "    }\n",
              "\n",
              "    .dataframe tbody tr th {\n",
              "        vertical-align: top;\n",
              "    }\n",
              "\n",
              "    .dataframe thead th {\n",
              "        text-align: right;\n",
              "    }\n",
              "</style>\n",
              "<table border=\"1\" class=\"dataframe\">\n",
              "  <thead>\n",
              "    <tr style=\"text-align: right;\">\n",
              "      <th></th>\n",
              "      <th>Country</th>\n",
              "      <th>soma_celular</th>\n",
              "      <th>soma_populacao</th>\n",
              "      <th>Percentual</th>\n",
              "    </tr>\n",
              "  </thead>\n",
              "  <tbody>\n",
              "    <tr>\n",
              "      <th>3</th>\n",
              "      <td>Luxembourg</td>\n",
              "      <td>890000000</td>\n",
              "      <td>626000000</td>\n",
              "      <td>142.172524</td>\n",
              "    </tr>\n",
              "  </tbody>\n",
              "</table>\n",
              "</div>"
            ],
            "text/plain": [
              "      Country  soma_celular  soma_populacao  Percentual\n",
              "3  Luxembourg     890000000       626000000  142.172524"
            ]
          },
          "metadata": {}
        },
        {
          "output_type": "display_data",
          "data": {
            "text/html": [
              "<div>\n",
              "<style scoped>\n",
              "    .dataframe tbody tr th:only-of-type {\n",
              "        vertical-align: middle;\n",
              "    }\n",
              "\n",
              "    .dataframe tbody tr th {\n",
              "        vertical-align: top;\n",
              "    }\n",
              "\n",
              "    .dataframe thead th {\n",
              "        text-align: right;\n",
              "    }\n",
              "</style>\n",
              "<table border=\"1\" class=\"dataframe\">\n",
              "  <thead>\n",
              "    <tr style=\"text-align: right;\">\n",
              "      <th></th>\n",
              "      <th>Country</th>\n",
              "      <th>soma_celular</th>\n",
              "      <th>soma_populacao</th>\n",
              "      <th>Percentual</th>\n",
              "    </tr>\n",
              "  </thead>\n",
              "  <tbody>\n",
              "    <tr>\n",
              "      <th>5</th>\n",
              "      <td>Maldives</td>\n",
              "      <td>718000000</td>\n",
              "      <td>541000000</td>\n",
              "      <td>132.71719</td>\n",
              "    </tr>\n",
              "  </tbody>\n",
              "</table>\n",
              "</div>"
            ],
            "text/plain": [
              "    Country  soma_celular  soma_populacao  Percentual\n",
              "5  Maldives     718000000       541000000   132.71719"
            ]
          },
          "metadata": {}
        },
        {
          "output_type": "display_data",
          "data": {
            "text/html": [
              "<div>\n",
              "<style scoped>\n",
              "    .dataframe tbody tr th:only-of-type {\n",
              "        vertical-align: middle;\n",
              "    }\n",
              "\n",
              "    .dataframe tbody tr th {\n",
              "        vertical-align: top;\n",
              "    }\n",
              "\n",
              "    .dataframe thead th {\n",
              "        text-align: right;\n",
              "    }\n",
              "</style>\n",
              "<table border=\"1\" class=\"dataframe\">\n",
              "  <thead>\n",
              "    <tr style=\"text-align: right;\">\n",
              "      <th></th>\n",
              "      <th>Country</th>\n",
              "      <th>soma_celular</th>\n",
              "      <th>soma_populacao</th>\n",
              "      <th>Percentual</th>\n",
              "    </tr>\n",
              "  </thead>\n",
              "  <tbody>\n",
              "    <tr>\n",
              "      <th>6</th>\n",
              "      <td>Malta</td>\n",
              "      <td>633000000</td>\n",
              "      <td>442000000</td>\n",
              "      <td>143.21267</td>\n",
              "    </tr>\n",
              "  </tbody>\n",
              "</table>\n",
              "</div>"
            ],
            "text/plain": [
              "  Country  soma_celular  soma_populacao  Percentual\n",
              "6   Malta     633000000       442000000   143.21267"
            ]
          },
          "metadata": {}
        }
      ]
    },
    {
      "cell_type": "code",
      "source": [
        "# Em vermelho, países cujo o numero de celuares é superior ao da população\n",
        "plt.figure(figsize=(19,7))\n",
        "plt.bar(DadosM.Country,DadosM.soma_populacao,color=\"red\",bottom=0,label=\"Celular\")\n",
        "plt.bar(DadosM.Country,DadosM.soma_celular,color=\"yellow\",bottom=0,label=\"Populacao\")\n",
        "\n",
        "plt.legend(loc=\"lower left\",bbox_to_anchor=(0.8,1.0))\n",
        "plt.show()"
      ],
      "metadata": {
        "colab": {
          "base_uri": "https://localhost:8080/",
          "height": 466
        },
        "id": "FUqPwcrF9asO",
        "outputId": "703adf66-6e02-4fb1-e440-239170f46e80"
      },
      "execution_count": 28,
      "outputs": [
        {
          "output_type": "display_data",
          "data": {
            "image/png": "[encoded data removed]",
            "text/plain": [
              "<Figure size 1368x504 with 1 Axes>"
            ]
          },
          "metadata": {}
        }
      ]
    },
    {
      "cell_type": "code",
      "source": [
        "DadosM['Percentual'] = (DadosM.soma_celular / DadosM.soma_populacao ) *100"
      ],
      "metadata": {
        "id": "QRep3ssEIPqi"
      },
      "execution_count": 29,
      "outputs": []
    },
    {
      "cell_type": "code",
      "source": [
        "# Países com maiores percentuais de qtd de celulares com relação a população\n",
        "display(DadosM.sort_values(by='Percentual', ascending=False).head())"
      ],
      "metadata": {
        "colab": {
          "base_uri": "https://localhost:8080/",
          "height": 206
        },
        "id": "-ZTehF4RIieU",
        "outputId": "36b48cb4-511f-41e7-cbfa-12e7d0aa82f0"
      },
      "execution_count": 30,
      "outputs": [
        {
          "output_type": "display_data",
          "data": {
            "text/html": [
              "<div>\n",
              "<style scoped>\n",
              "    .dataframe tbody tr th:only-of-type {\n",
              "        vertical-align: middle;\n",
              "    }\n",
              "\n",
              "    .dataframe tbody tr th {\n",
              "        vertical-align: top;\n",
              "    }\n",
              "\n",
              "    .dataframe thead th {\n",
              "        text-align: right;\n",
              "    }\n",
              "</style>\n",
              "<table border=\"1\" class=\"dataframe\">\n",
              "  <thead>\n",
              "    <tr style=\"text-align: right;\">\n",
              "      <th></th>\n",
              "      <th>Country</th>\n",
              "      <th>soma_celular</th>\n",
              "      <th>soma_populacao</th>\n",
              "      <th>Percentual</th>\n",
              "    </tr>\n",
              "  </thead>\n",
              "  <tbody>\n",
              "    <tr>\n",
              "      <th>2</th>\n",
              "      <td>Suriname</td>\n",
              "      <td>899000000</td>\n",
              "      <td>587000000</td>\n",
              "      <td>153.151618</td>\n",
              "    </tr>\n",
              "    <tr>\n",
              "      <th>6</th>\n",
              "      <td>Malta</td>\n",
              "      <td>633000000</td>\n",
              "      <td>442000000</td>\n",
              "      <td>143.212670</td>\n",
              "    </tr>\n",
              "    <tr>\n",
              "      <th>3</th>\n",
              "      <td>Luxembourg</td>\n",
              "      <td>890000000</td>\n",
              "      <td>626000000</td>\n",
              "      <td>142.172524</td>\n",
              "    </tr>\n",
              "    <tr>\n",
              "      <th>5</th>\n",
              "      <td>Maldives</td>\n",
              "      <td>718000000</td>\n",
              "      <td>541000000</td>\n",
              "      <td>132.717190</td>\n",
              "    </tr>\n",
              "    <tr>\n",
              "      <th>12</th>\n",
              "      <td>Indonesia</td>\n",
              "      <td>356000000</td>\n",
              "      <td>274000000</td>\n",
              "      <td>129.927007</td>\n",
              "    </tr>\n",
              "  </tbody>\n",
              "</table>\n",
              "</div>"
            ],
            "text/plain": [
              "       Country  soma_celular  soma_populacao  Percentual\n",
              "2     Suriname     899000000       587000000  153.151618\n",
              "6        Malta     633000000       442000000  143.212670\n",
              "3   Luxembourg     890000000       626000000  142.172524\n",
              "5     Maldives     718000000       541000000  132.717190\n",
              "12   Indonesia     356000000       274000000  129.927007"
            ]
          },
          "metadata": {}
        }
      ]
    },
    {
      "cell_type": "code",
      "source": [
        "# Países com MENORES percentuais de qtd de celulares com relação a população\n",
        "display(DadosM.sort_values(by='Percentual').head())"
      ],
      "metadata": {
        "colab": {
          "base_uri": "https://localhost:8080/",
          "height": 206
        },
        "id": "-fG8MLxVNYhH",
        "outputId": "ac2efa78-fb01-4df5-f748-2c92a12f5203"
      },
      "execution_count": 33,
      "outputs": [
        {
          "output_type": "display_data",
          "data": {
            "text/html": [
              "<div>\n",
              "<style scoped>\n",
              "    .dataframe tbody tr th:only-of-type {\n",
              "        vertical-align: middle;\n",
              "    }\n",
              "\n",
              "    .dataframe tbody tr th {\n",
              "        vertical-align: top;\n",
              "    }\n",
              "\n",
              "    .dataframe thead th {\n",
              "        text-align: right;\n",
              "    }\n",
              "</style>\n",
              "<table border=\"1\" class=\"dataframe\">\n",
              "  <thead>\n",
              "    <tr style=\"text-align: right;\">\n",
              "      <th></th>\n",
              "      <th>Country</th>\n",
              "      <th>soma_celular</th>\n",
              "      <th>soma_populacao</th>\n",
              "      <th>Percentual</th>\n",
              "    </tr>\n",
              "  </thead>\n",
              "  <tbody>\n",
              "    <tr>\n",
              "      <th>10</th>\n",
              "      <td>Djibouti</td>\n",
              "      <td>434000000</td>\n",
              "      <td>988000000</td>\n",
              "      <td>43.927126</td>\n",
              "    </tr>\n",
              "    <tr>\n",
              "      <th>9</th>\n",
              "      <td>Comoros</td>\n",
              "      <td>473000000</td>\n",
              "      <td>870000000</td>\n",
              "      <td>54.367816</td>\n",
              "    </tr>\n",
              "    <tr>\n",
              "      <th>13</th>\n",
              "      <td>Vanuatu</td>\n",
              "      <td>246000000</td>\n",
              "      <td>307000000</td>\n",
              "      <td>80.130293</td>\n",
              "    </tr>\n",
              "    <tr>\n",
              "      <th>1</th>\n",
              "      <td>India</td>\n",
              "      <td>1150000000</td>\n",
              "      <td>1380000000</td>\n",
              "      <td>83.333333</td>\n",
              "    </tr>\n",
              "    <tr>\n",
              "      <th>4</th>\n",
              "      <td>Bhutan</td>\n",
              "      <td>745000000</td>\n",
              "      <td>772000000</td>\n",
              "      <td>96.502591</td>\n",
              "    </tr>\n",
              "  </tbody>\n",
              "</table>\n",
              "</div>"
            ],
            "text/plain": [
              "     Country  soma_celular  soma_populacao  Percentual\n",
              "10  Djibouti     434000000       988000000   43.927126\n",
              "9    Comoros     473000000       870000000   54.367816\n",
              "13   Vanuatu     246000000       307000000   80.130293\n",
              "1      India    1150000000      1380000000   83.333333\n",
              "4     Bhutan     745000000       772000000   96.502591"
            ]
          },
          "metadata": {}
        }
      ]
    },
    {
      "cell_type": "code",
      "source": [
        "DadosBrasil = DadosM[DadosM.Country == 'Brazil']\n",
        "DadosBrasil"
      ],
      "metadata": {
        "colab": {
          "base_uri": "https://localhost:8080/",
          "height": 81
        },
        "id": "AspoZ8GtYKut",
        "outputId": "26c22bf5-f988-43b9-8b9d-1b162dca7961"
      },
      "execution_count": 35,
      "outputs": [
        {
          "output_type": "execute_result",
          "data": {
            "text/html": [
              "<div>\n",
              "<style scoped>\n",
              "    .dataframe tbody tr th:only-of-type {\n",
              "        vertical-align: middle;\n",
              "    }\n",
              "\n",
              "    .dataframe tbody tr th {\n",
              "        vertical-align: top;\n",
              "    }\n",
              "\n",
              "    .dataframe thead th {\n",
              "        text-align: right;\n",
              "    }\n",
              "</style>\n",
              "<table border=\"1\" class=\"dataframe\">\n",
              "  <thead>\n",
              "    <tr style=\"text-align: right;\">\n",
              "      <th></th>\n",
              "      <th>Country</th>\n",
              "      <th>soma_celular</th>\n",
              "      <th>soma_populacao</th>\n",
              "      <th>Percentual</th>\n",
              "    </tr>\n",
              "  </thead>\n",
              "  <tbody>\n",
              "    <tr>\n",
              "      <th>14</th>\n",
              "      <td>Brazil</td>\n",
              "      <td>206000000</td>\n",
              "      <td>213000000</td>\n",
              "      <td>96.713615</td>\n",
              "    </tr>\n",
              "  </tbody>\n",
              "</table>\n",
              "</div>"
            ],
            "text/plain": [
              "   Country  soma_celular  soma_populacao  Percentual\n",
              "14  Brazil     206000000       213000000   96.713615"
            ]
          },
          "metadata": {},
          "execution_count": 35
        }
      ]
    },
    {
      "cell_type": "markdown",
      "source": [
        "# Perguntas e respostas:\n",
        "**Quais são os 5 países com maior quantidade de celulares? A posição é correspondente a colocação das maiores populações do mundo? <br>**\n",
        "Os 5 países são: China, Índia, Suriname, Luxembourg e Bhutan. Somente para China e Índia são correspondentes, 1º e 2 º lugares respectivamente. <br>\n",
        "**<br>Quais os países com maior percentual de celulares com relação a sua população?**\n",
        "<br> Os países são:\n",
        "Suriname: 153%, Malta: 143%,Luxembourg: 142%,Maldives: 133% e Indonésia:\t130% <br> \n",
        "<br>**Quais os países com o menor número de celulares com relação a sua população?**\n",
        "<br>\n",
        "Os países são: Djibouti: 43,93%,Comoros: 54,37%,Vanuatu: 80,13%, India:\t83,33% e\n",
        "Bhutan:\t96,50%\n",
        "<br>\n",
        "\n",
        "<br>**Qual colocação do Brasil em números de celulares? E qual seu percentual em relação a população brasileira?**\n",
        "<br>\n",
        "O Brasil esta em 16º pais com maior numeros de celulares no mundo. O percentual em relação a população brasileira é de 96,71%, quase atingindo o patamar de um celular para cada habitante.\n",
        "\n",
        "<br>\n",
        "\n",
        "\n",
        "---\n",
        "\n",
        "Compartilhado em: https://github.com/jcarlospj/mack/blob/0fb86ecf7e42d304930ed20fe90760662942ff72/Trilha4_ExercicioAprofundamento_JoseCarlos.ipynb\n",
        "\n",
        "\n",
        "\n",
        "\n",
        "\n",
        "\n",
        "\n",
        "\n",
        "\n",
        "\n",
        "\n",
        "\n",
        "\n",
        "\n",
        "\n",
        "\n",
        "<br>"
      ],
      "metadata": {
        "id": "g3zb4AW7ORMD"
      }
    }
  ]
}